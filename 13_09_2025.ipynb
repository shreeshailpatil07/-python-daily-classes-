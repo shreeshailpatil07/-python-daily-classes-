{
  "nbformat": 4,
  "nbformat_minor": 0,
  "metadata": {
    "colab": {
      "provenance": []
    },
    "kernelspec": {
      "name": "python3",
      "display_name": "Python 3"
    },
    "language_info": {
      "name": "python"
    }
  },
  "cells": [
    {
      "cell_type": "code",
      "source": [
        "a,b,c= \"Good\", \"Morning\",18\n",
        "print(a,b,c)"
      ],
      "metadata": {
        "colab": {
          "base_uri": "https://localhost:8080/"
        },
        "id": "4zweVHdMbWWa",
        "outputId": "6bedce5c-2dcf-4f3a-f72d-95993c96f6b7"
      },
      "execution_count": 1,
      "outputs": [
        {
          "output_type": "stream",
          "name": "stdout",
          "text": [
            "Good Morning 18\n"
          ]
        }
      ]
    },
    {
      "cell_type": "code",
      "execution_count": 13,
      "metadata": {
        "colab": {
          "base_uri": "https://localhost:8080/"
        },
        "id": "a55HY_3oaCJx",
        "outputId": "f9d2c5f7-15da-44d9-f1ac-b98c7f641a9a"
      },
      "outputs": [
        {
          "output_type": "stream",
          "name": "stdout",
          "text": [
            "Hi, Good morning, I'm Shreeshail i'm studing BCA in BK at chikodi, my roll no is 101\n"
          ]
        }
      ],
      "source": [
        "Name, College, Degree, Roll_no = \"Shreeshail\", \"BK\", \"BCA\", 101\n",
        "print (\"Hi, Good morning, I'm\", Name, \"i'm studing\", Degree, \"in\", College, \"at chikodi, my roll no is\", Roll_no )\n",
        ""
      ]
    },
    {
      "cell_type": "code",
      "source": [
        "a=b, c = \"college\", 25\n",
        "print(a,b,c)"
      ],
      "metadata": {
        "colab": {
          "base_uri": "https://localhost:8080/"
        },
        "id": "H0KCEQGYiJk-",
        "outputId": "2c8e0f1e-e61b-40a2-e0b2-96cc9875ac6c"
      },
      "execution_count": 18,
      "outputs": [
        {
          "output_type": "stream",
          "name": "stdout",
          "text": [
            "('college', 25) college 25\n"
          ]
        }
      ]
    },
    {
      "cell_type": "code",
      "source": [
        "x = y =z = 1001\n",
        "print (x,y,z)"
      ],
      "metadata": {
        "colab": {
          "base_uri": "https://localhost:8080/"
        },
        "id": "B0R8tY3riGC4",
        "outputId": "906abf94-1635-47dc-8937-40d6ca4587c7"
      },
      "execution_count": 19,
      "outputs": [
        {
          "output_type": "stream",
          "name": "stdout",
          "text": [
            "1001 1001 1001\n"
          ]
        }
      ]
    },
    {
      "cell_type": "code",
      "source": [
        "A =10\n",
        "B=20\n",
        "print (\"addition of\",A, \"and\",B,\"is 30\")"
      ],
      "metadata": {
        "colab": {
          "base_uri": "https://localhost:8080/"
        },
        "id": "3PiatP0jjZVT",
        "outputId": "52de6370-e03a-4968-fd77-417d10ecd777"
      },
      "execution_count": 21,
      "outputs": [
        {
          "output_type": "stream",
          "name": "stdout",
          "text": [
            "addition of 10 and 20 is 30\n"
          ]
        }
      ]
    },
    {
      "cell_type": "code",
      "source": [
        "A =10\n",
        "print(type(A))"
      ],
      "metadata": {
        "colab": {
          "base_uri": "https://localhost:8080/"
        },
        "id": "O6Kn5QVbkxlU",
        "outputId": "66d1df63-ec7d-4ab7-d069-e196dc274375"
      },
      "execution_count": 22,
      "outputs": [
        {
          "output_type": "stream",
          "name": "stdout",
          "text": [
            "<class 'int'>\n"
          ]
        }
      ]
    },
    {
      "cell_type": "code",
      "source": [
        "X =35\n",
        "print (type(X))"
      ],
      "metadata": {
        "colab": {
          "base_uri": "https://localhost:8080/"
        },
        "id": "ljuXE_VNnTR0",
        "outputId": "ebb3bed4-c347-4f0a-c493-0f33419950f4"
      },
      "execution_count": 23,
      "outputs": [
        {
          "output_type": "stream",
          "name": "stdout",
          "text": [
            "<class 'int'>\n"
          ]
        }
      ]
    },
    {
      "cell_type": "code",
      "source": [
        "COLLEGE =-100\n",
        "print(type(x))"
      ],
      "metadata": {
        "colab": {
          "base_uri": "https://localhost:8080/"
        },
        "id": "IMguUpOznqj8",
        "outputId": "c9baac28-06af-4e48-8989-7a0738dc2071"
      },
      "execution_count": 25,
      "outputs": [
        {
          "output_type": "stream",
          "name": "stdout",
          "text": [
            "<class 'int'>\n"
          ]
        }
      ]
    },
    {
      "cell_type": "code",
      "source": [
        "system = +200\n",
        "print(type(system))"
      ],
      "metadata": {
        "colab": {
          "base_uri": "https://localhost:8080/"
        },
        "id": "ZZGaAPAdn5BW",
        "outputId": "c324ec7f-e578-48de-f489-a5a326e77755"
      },
      "execution_count": 27,
      "outputs": [
        {
          "output_type": "stream",
          "name": "stdout",
          "text": [
            "<class 'int'>\n"
          ]
        }
      ]
    },
    {
      "cell_type": "code",
      "source": [
        "number =10001\n",
        "print(type(number))"
      ],
      "metadata": {
        "colab": {
          "base_uri": "https://localhost:8080/"
        },
        "id": "igfjhZ21oDgE",
        "outputId": "480bc124-8d6c-4423-907e-ce715b03e95a"
      },
      "execution_count": 28,
      "outputs": [
        {
          "output_type": "stream",
          "name": "stdout",
          "text": [
            "<class 'int'>\n"
          ]
        }
      ]
    },
    {
      "cell_type": "code",
      "source": [
        "name =-100.3\n",
        "print(type(name))"
      ],
      "metadata": {
        "colab": {
          "base_uri": "https://localhost:8080/"
        },
        "id": "NufRwk67pKoW",
        "outputId": "a23f39c9-6171-456a-a7c2-bd6ea92beb51"
      },
      "execution_count": 29,
      "outputs": [
        {
          "output_type": "stream",
          "name": "stdout",
          "text": [
            "<class 'float'>\n"
          ]
        }
      ]
    },
    {
      "cell_type": "code",
      "source": [
        "run =+20.3\n",
        "print(type(run ))"
      ],
      "metadata": {
        "colab": {
          "base_uri": "https://localhost:8080/"
        },
        "id": "G83QLjCJqTRe",
        "outputId": "25947b82-0703-4c39-a981-4ad8a43d677c"
      },
      "execution_count": 30,
      "outputs": [
        {
          "output_type": "stream",
          "name": "stdout",
          "text": [
            "<class 'float'>\n"
          ]
        }
      ]
    },
    {
      "cell_type": "code",
      "source": [
        "yes =True\n",
        "print(type(yes))"
      ],
      "metadata": {
        "colab": {
          "base_uri": "https://localhost:8080/"
        },
        "id": "s-By5UViqzLt",
        "outputId": "f47a19e5-9447-4630-ac53-0046311d8ef4"
      },
      "execution_count": 32,
      "outputs": [
        {
          "output_type": "stream",
          "name": "stdout",
          "text": [
            "<class 'bool'>\n"
          ]
        }
      ]
    },
    {
      "cell_type": "code",
      "source": [
        "yes =18\n",
        "print(type(yes))"
      ],
      "metadata": {
        "colab": {
          "base_uri": "https://localhost:8080/"
        },
        "id": "Z4jvdAzDrDCl",
        "outputId": "712d7c68-9d88-4a1c-eb4a-88e34b8f2827"
      },
      "execution_count": 33,
      "outputs": [
        {
          "output_type": "stream",
          "name": "stdout",
          "text": [
            "<class 'int'>\n"
          ]
        }
      ]
    },
    {
      "cell_type": "code",
      "source": [
        "yes =\"false\"\n",
        "print(type(yes))"
      ],
      "metadata": {
        "colab": {
          "base_uri": "https://localhost:8080/"
        },
        "id": "e6exqib-rcyt",
        "outputId": "6b25afe9-1057-4305-91d0-225736c2b2d5"
      },
      "execution_count": 35,
      "outputs": [
        {
          "output_type": "stream",
          "name": "stdout",
          "text": [
            "<class 'str'>\n"
          ]
        }
      ]
    },
    {
      "cell_type": "code",
      "source": [
        "roll_no =121\n",
        "print(type(roll_no))"
      ],
      "metadata": {
        "colab": {
          "base_uri": "https://localhost:8080/"
        },
        "id": "5C1CqkA_r-02",
        "outputId": "096e4cb9-0986-488a-d8f3-f1ca955919b5"
      },
      "execution_count": 37,
      "outputs": [
        {
          "output_type": "stream",
          "name": "stdout",
          "text": [
            "<class 'int'>\n"
          ]
        }
      ]
    },
    {
      "cell_type": "code",
      "source": [
        "value =27.45\n",
        "print(type(value))"
      ],
      "metadata": {
        "colab": {
          "base_uri": "https://localhost:8080/"
        },
        "id": "5LvtdbABsUtW",
        "outputId": "fc0f0da8-b102-4843-db17-7fa0101e195f"
      },
      "execution_count": 38,
      "outputs": [
        {
          "output_type": "stream",
          "name": "stdout",
          "text": [
            "<class 'float'>\n"
          ]
        }
      ]
    },
    {
      "cell_type": "code",
      "source": [
        "section ='c'\n",
        "print(type(section))"
      ],
      "metadata": {
        "colab": {
          "base_uri": "https://localhost:8080/"
        },
        "id": "t-HnISk6shWn",
        "outputId": "a10a204d-db1c-4676-e617-e1f7aca579c5"
      },
      "execution_count": 39,
      "outputs": [
        {
          "output_type": "stream",
          "name": "stdout",
          "text": [
            "<class 'str'>\n"
          ]
        }
      ]
    },
    {
      "cell_type": "code",
      "source": [
        "programe =\"progame\"\n",
        "print(type(programe))"
      ],
      "metadata": {
        "colab": {
          "base_uri": "https://localhost:8080/"
        },
        "id": "9zxTmIAusuTu",
        "outputId": "a380949d-cc01-46ca-c4e8-7614d913c2ab"
      },
      "execution_count": 42,
      "outputs": [
        {
          "output_type": "stream",
          "name": "stdout",
          "text": [
            "<class 'str'>\n"
          ]
        }
      ]
    },
    {
      "cell_type": "code",
      "source": [
        "string = \"python programing language\"\n",
        "print(string)"
      ],
      "metadata": {
        "colab": {
          "base_uri": "https://localhost:8080/"
        },
        "id": "-n9SwqMxtxKv",
        "outputId": "d2467b16-1b20-48c4-a361-df90cd1a5a27"
      },
      "execution_count": 43,
      "outputs": [
        {
          "output_type": "stream",
          "name": "stdout",
          "text": [
            "python programing language\n"
          ]
        }
      ]
    },
    {
      "cell_type": "code",
      "source": [
        "first =\"BKC\"\n",
        "Second =\"COLLEGE\"\n",
        "print(((first +\" \"+Second)+\"\\n\")*5)"
      ],
      "metadata": {
        "colab": {
          "base_uri": "https://localhost:8080/"
        },
        "id": "8Ql9nvYhwCV3",
        "outputId": "19bb65f0-7bca-4fd0-8e85-3c539bbad934"
      },
      "execution_count": 56,
      "outputs": [
        {
          "output_type": "stream",
          "name": "stdout",
          "text": [
            "BKC COLLEGE\n",
            "BKC COLLEGE\n",
            "BKC COLLEGE\n",
            "BKC COLLEGE\n",
            "BKC COLLEGE\n",
            "\n"
          ]
        }
      ]
    },
    {
      "cell_type": "code",
      "source": [
        "name =\"python programing language\"\n",
        "print(name[5])\n",
        "print(name[-2])\n",
        "print(name[18])\n",
        "print(name[3:14])\n",
        "print(name[:20])\n",
        "print(name[6:])\n",
        "print(name[:-1])\n",
        "print(name[-22:-4])\n",
        "print(name[::1])\n",
        "print(name[::2])\n",
        "print(name[::-1])\n",
        "print(name[::-3])"
      ],
      "metadata": {
        "colab": {
          "base_uri": "https://localhost:8080/"
        },
        "id": "4bHeg2nFweKm",
        "outputId": "041f99e7-3690-4af6-fa99-a3e9d7b542c5"
      },
      "execution_count": 77,
      "outputs": [
        {
          "output_type": "stream",
          "name": "stdout",
          "text": [
            "n\n",
            "g\n",
            "l\n",
            "hon program\n",
            "python programing la\n",
            " programing language\n",
            "python programing languag\n",
            "on programing lang\n",
            "python programing language\n",
            "pto rgaiglnug\n",
            "egaugnal gnimargorp nohtyp\n",
            "euagmgpoy\n"
          ]
        }
      ]
    },
    {
      "cell_type": "code",
      "source": [
        "#Hi Good morning 'single line comments'\n",
        "Details='''multi line comments\n",
        "hi, Good morning\n",
        "'''\n",
        "print(Details)"
      ],
      "metadata": {
        "colab": {
          "base_uri": "https://localhost:8080/"
        },
        "id": "J1fZwlRq8hua",
        "outputId": "4c702e5b-a70a-4e80-c49c-9a3919a58265"
      },
      "execution_count": 90,
      "outputs": [
        {
          "output_type": "stream",
          "name": "stdout",
          "text": [
            "multi line comments\n",
            "hi, Good morning\n",
            "\n"
          ]
        }
      ]
    },
    {
      "cell_type": "code",
      "source": [
        "Roll_no =1,2,3,4,5, _,_,_,_,_,_,\n",
        "60\n",
        "print(Roll_no)"
      ],
      "metadata": {
        "colab": {
          "base_uri": "https://localhost:8080/"
        },
        "id": "cAWLGEoD9aZz",
        "outputId": "b6351f91-d45d-4736-f71f-aa0afb6d3133"
      },
      "execution_count": 88,
      "outputs": [
        {
          "output_type": "stream",
          "name": "stdout",
          "text": [
            "(1, 2, 3, 4, 5, 'multi line comments\\nhi, Good morning\\n', 'multi line comments\\nhi, Good morning\\n', 'multi line comments\\nhi, Good morning\\n', 'multi line comments\\nhi, Good morning\\n', 'multi line comments\\nhi, Good morning\\n', 'multi line comments\\nhi, Good morning\\n')\n"
          ]
        }
      ]
    },
    {
      "cell_type": "code",
      "source": [
        "Details = [101]\n",
        "print(Details)\n",
        "print(type(Details))\n",
        "Details.append(85.12)\n",
        "print(Details)\n",
        "\n",
        "Details.append(True)\n",
        "print(Details)\n",
        "print(len(Details))\n",
        "print(Details.pop())\n",
        "print(Details)\n",
        "Details.append(\"shreeshail\")\n",
        "print(Details)\n",
        "\n",
        "Details.append(99)\n",
        "print(Details)\n",
        "print(len(Details))\n",
        "\n",
        "print(Details[2])\n",
        "print(Details[3])\n",
        "Details.append(\"BK college\")\n",
        "print(Details)\n",
        "Details[3] = 99\n",
        "print(Details)\n",
        "print(Details[2:4])\n",
        "Details.insert(2,False)\n",
        "print(Details)\n",
        "print(len(Details))\n",
        "Details.remove(False)\n",
        "print (Details)\n",
        "print(len(Details))\n",
        "print(Details[4])\n",
        "print(Details[::-1])\n",
        "print(Details.count(101))\n",
        "print(Details.clear())\n",
        "print(Details)\n",
        "print(type(Details))\n"
      ],
      "metadata": {
        "colab": {
          "base_uri": "https://localhost:8080/"
        },
        "id": "0KcJi70PLB4t",
        "outputId": "9938ca1d-dcd1-4622-fd15-0683905dc455"
      },
      "execution_count": 149,
      "outputs": [
        {
          "output_type": "stream",
          "name": "stdout",
          "text": [
            "[101]\n",
            "<class 'list'>\n",
            "[101, 85.12]\n",
            "[101, 85.12, True]\n",
            "3\n",
            "True\n",
            "[101, 85.12]\n",
            "[101, 85.12, 'shreeshail']\n",
            "[101, 85.12, 'shreeshail', 99]\n",
            "4\n",
            "shreeshail\n",
            "99\n",
            "[101, 85.12, 'shreeshail', 99, 'BK college']\n",
            "[101, 85.12, 'shreeshail', 99, 'BK college']\n",
            "['shreeshail', 99]\n",
            "[101, 85.12, False, 'shreeshail', 99, 'BK college']\n",
            "6\n",
            "[101, 85.12, 'shreeshail', 99, 'BK college']\n",
            "5\n",
            "BK college\n",
            "['BK college', 99, 'shreeshail', 85.12, 101]\n",
            "1\n",
            "None\n",
            "[]\n",
            "<class 'list'>\n"
          ]
        }
      ]
    },
    {
      "cell_type": "code",
      "source": [
        "Information = [76]\n",
        "print(Information)\n",
        "print(type(Information))\n",
        "Information.append(85.12)\n",
        "print(Information)\n",
        "\n",
        "Information.append(True)\n",
        "print(Information)\n",
        "print(len(Information))\n",
        "print(Information.pop())\n",
        "print(Information)\n",
        "Information.append(\"shreeshail\")\n",
        "print(Information)\n",
        "\n",
        "Information.append(99)\n",
        "print(Information)\n",
        "print(len(Information))\n",
        "\n",
        "print(Information[2])\n",
        "print(Information[3])\n",
        "Information.append(\"basavaprabhu kore college chikodi\")\n",
        "print(Information)\n",
        "Information[3] = 99\n",
        "print(Information)\n",
        "print(Information[2:4])\n",
        "Information.insert(2,False)\n",
        "print(Information)\n",
        "print(len(Information))\n",
        "Information.remove(False)\n",
        "print (Information)\n",
        "print(len(Information))\n",
        "print(Information[4])\n",
        "print(Information[::-1])\n",
        "print(Information.count(101))\n",
        "print(Information.clear())\n",
        "print(Information)\n",
        "print(type(Information))\n",
        "\n",
        "number =[4,5,2,9,5,8]\n",
        "print(number)\n",
        "number.sort()\n",
        "print(number)"
      ],
      "metadata": {
        "colab": {
          "base_uri": "https://localhost:8080/"
        },
        "id": "j5eg6mSruJux",
        "outputId": "5a9055f5-2c4f-41b1-b2f7-2277dc40f51c"
      },
      "execution_count": 151,
      "outputs": [
        {
          "output_type": "stream",
          "name": "stdout",
          "text": [
            "[76]\n",
            "<class 'list'>\n",
            "[76, 85.12]\n",
            "[76, 85.12, True]\n",
            "3\n",
            "True\n",
            "[76, 85.12]\n",
            "[76, 85.12, 'shreeshail']\n",
            "[76, 85.12, 'shreeshail', 99]\n",
            "4\n",
            "shreeshail\n",
            "99\n",
            "[76, 85.12, 'shreeshail', 99, 'basavaprabhu kore college chikodi']\n",
            "[76, 85.12, 'shreeshail', 99, 'basavaprabhu kore college chikodi']\n",
            "['shreeshail', 99]\n",
            "[76, 85.12, False, 'shreeshail', 99, 'basavaprabhu kore college chikodi']\n",
            "6\n",
            "[76, 85.12, 'shreeshail', 99, 'basavaprabhu kore college chikodi']\n",
            "5\n",
            "basavaprabhu kore college chikodi\n",
            "['basavaprabhu kore college chikodi', 99, 'shreeshail', 85.12, 76]\n",
            "0\n",
            "None\n",
            "[]\n",
            "<class 'list'>\n",
            "[4, 5, 2, 9, 5, 8]\n",
            "[2, 4, 5, 5, 8, 9]\n"
          ]
        }
      ]
    }
  ]
}