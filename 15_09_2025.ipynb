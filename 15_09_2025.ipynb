{
  "nbformat": 4,
  "nbformat_minor": 0,
  "metadata": {
    "colab": {
      "provenance": []
    },
    "kernelspec": {
      "name": "python3",
      "display_name": "Python 3"
    },
    "language_info": {
      "name": "python"
    }
  },
  "cells": [
    {
      "cell_type": "code",
      "execution_count": null,
      "metadata": {
        "colab": {
          "base_uri": "https://localhost:8080/"
        },
        "id": "BlMTeoIKqfe2",
        "outputId": "359d085e-8e63-4359-9006-3c24845b93e1"
      },
      "outputs": [
        {
          "output_type": "stream",
          "name": "stdout",
          "text": [
            "6\n"
          ]
        }
      ],
      "source": [
        "# Address =2010\n",
        "print(3+3)"
      ]
    },
    {
      "cell_type": "code",
      "source": [
        "Example=(1 ,\"SHARAT\",3.12,False)\n",
        "print(Example)\n",
        "print(len(Example))\n",
        "print(type(Example))\n",
        "print(Example.count(1))\n",
        "print(Example[0:3])\n",
        "print(Example[3])\n",
        "print(Example[-1])"
      ],
      "metadata": {
        "colab": {
          "base_uri": "https://localhost:8080/"
        },
        "id": "oy4xQYfBxjIW",
        "outputId": "95abfca7-2d1e-4a43-d453-6bcf2ceaa606"
      },
      "execution_count": null,
      "outputs": [
        {
          "output_type": "stream",
          "name": "stdout",
          "text": [
            "(1, 'SHARAT', 3.12, False)\n",
            "4\n",
            "<class 'tuple'>\n",
            "1\n",
            "(1, 'SHARAT', 3.12)\n",
            "False\n",
            "False\n"
          ]
        }
      ]
    },
    {
      "cell_type": "code",
      "source": [
        "Number = (2,4,7,9,3,9,3,2)\n",
        "print(Number)\n",
        "Add = (2,4,5,7)\n",
        "print(Number + Add)\n",
        "print(Add*4)"
      ],
      "metadata": {
        "colab": {
          "base_uri": "https://localhost:8080/"
        },
        "id": "2rXuCTGG15yg",
        "outputId": "67288359-9363-4485-b53a-299e36747488"
      },
      "execution_count": null,
      "outputs": [
        {
          "output_type": "stream",
          "name": "stdout",
          "text": [
            "(2, 4, 7, 9, 3, 9, 3, 2)\n",
            "(2, 4, 7, 9, 3, 9, 3, 2, 2, 4, 5, 7)\n",
            "(2, 4, 5, 7, 2, 4, 5, 7, 2, 4, 5, 7, 2, 4, 5, 7)\n"
          ]
        }
      ]
    },
    {
      "cell_type": "code",
      "source": [
        "example = {1,2,3,4,5,}\n",
        "print(example)\n",
        "print(type(example))\n",
        "print(len(example))\n",
        "example.add(10)\n",
        "print(example)\n",
        "example.add(\"BKC\")\n",
        "print(example)\n",
        "example ={}\n",
        "print(type(example))\n",
        "example = {1}\n",
        "print(type(example))\n",
        "example = (1,2,2,3,4,4,5,6,7)\n",
        "print(example)\n",
        "print(type(example))\n",
        "print(len(example))\n"
      ],
      "metadata": {
        "colab": {
          "base_uri": "https://localhost:8080/"
        },
        "id": "SaPpBqxR4pLg",
        "outputId": "38d76a25-8a06-4233-de7d-7015c368043e"
      },
      "execution_count": null,
      "outputs": [
        {
          "output_type": "stream",
          "name": "stdout",
          "text": [
            "{1, 2, 3, 4, 5}\n",
            "<class 'set'>\n",
            "5\n",
            "{1, 2, 3, 4, 5, 10}\n",
            "{1, 2, 3, 4, 5, 'BKC', 10}\n",
            "<class 'dict'>\n",
            "<class 'set'>\n",
            "(1, 2, 2, 3, 4, 4, 5, 6, 7)\n",
            "<class 'tuple'>\n",
            "9\n"
          ]
        }
      ]
    },
    {
      "cell_type": "code",
      "source": [
        "first={1,2,3,4,4,2}\n",
        "second={3,5,4,6}\n",
        "print(first|second)\n",
        "print(first.union(second))\n",
        "print(first&second)\n",
        "print(first.intersection(second))\n",
        "print(first.difference(second))\n",
        "print(second-first)"
      ],
      "metadata": {
        "colab": {
          "base_uri": "https://localhost:8080/"
        },
        "id": "_xw6qQ8_8tlh",
        "outputId": "55ce6f66-ae3d-466c-eaf1-ef30543d3046"
      },
      "execution_count": null,
      "outputs": [
        {
          "output_type": "stream",
          "name": "stdout",
          "text": [
            "{1, 2, 3, 4, 5, 6}\n",
            "{1, 2, 3, 4, 5, 6}\n",
            "{3, 4}\n",
            "{3, 4}\n",
            "{1, 2}\n",
            "{5, 6}\n"
          ]
        }
      ]
    },
    {
      "cell_type": "code",
      "source": [
        "Dict={\"roll_number\":201,\n",
        "      \"name\":\"sachin\",\n",
        "      \"address\":\"ghataprabha\",\n",
        "      \"CGPA\":2.55,\n",
        "      \"course\":\"MCA\",\n",
        "      \"year\":\"2022\"\n",
        "      }\n",
        "print(Dict)\n",
        "print(len(Dict))\n",
        "Dict[\"gender\"]=\"male\"\n",
        "print(Dict)\n",
        "Dict[\"mobile number\"]=\"99013953**\"\n",
        "print(Dict)\n",
        "Dict[\"college\"]=\"BKC COLLEGE\"\n",
        "print(Dict)\n",
        "Dict[\"college\"]=\"skh pu college\"\n",
        "print(Dict)\n",
        "del Dict[\"gender\"]\n",
        "print(Dict)\n",
        "Dict[\"gender\"] = \"male\"\n",
        "print(Dict)\n",
        "print(Dict[\"college\"])\n",
        "Dict[\"age\"] = \"18\"\n",
        "print(Dict)\n",
        "Dict.pop(\"address\")\n",
        "print(Dict)\n",
        "print(len(Dict))\n",
        "print(Dict.popitem())\n",
        "print(Dict.keys())\n",
        "print(Dict.values())\n",
        "print(Dict.items())\n",
        "print(Dict.clear())\n"
      ],
      "metadata": {
        "colab": {
          "base_uri": "https://localhost:8080/"
        },
        "id": "jvCxqmt9B-pC",
        "outputId": "81602b67-1c67-45e4-e6af-1d5a5a442ded"
      },
      "execution_count": null,
      "outputs": [
        {
          "output_type": "stream",
          "name": "stdout",
          "text": [
            "{'roll_number': 201, 'name': 'sachin', 'address': 'ghataprabha', 'CGPA': 2.55, 'course': 'MCA', 'year': '2022'}\n",
            "6\n",
            "{'roll_number': 201, 'name': 'sachin', 'address': 'ghataprabha', 'CGPA': 2.55, 'course': 'MCA', 'year': '2022', 'gender': 'male'}\n",
            "{'roll_number': 201, 'name': 'sachin', 'address': 'ghataprabha', 'CGPA': 2.55, 'course': 'MCA', 'year': '2022', 'gender': 'male', 'mobile number': '99013953**'}\n",
            "{'roll_number': 201, 'name': 'sachin', 'address': 'ghataprabha', 'CGPA': 2.55, 'course': 'MCA', 'year': '2022', 'gender': 'male', 'mobile number': '99013953**', 'college': 'BKC COLLEGE'}\n",
            "{'roll_number': 201, 'name': 'sachin', 'address': 'ghataprabha', 'CGPA': 2.55, 'course': 'MCA', 'year': '2022', 'gender': 'male', 'mobile number': '99013953**', 'college': 'skh pu college'}\n",
            "{'roll_number': 201, 'name': 'sachin', 'address': 'ghataprabha', 'CGPA': 2.55, 'course': 'MCA', 'year': '2022', 'mobile number': '99013953**', 'college': 'skh pu college'}\n",
            "{'roll_number': 201, 'name': 'sachin', 'address': 'ghataprabha', 'CGPA': 2.55, 'course': 'MCA', 'year': '2022', 'mobile number': '99013953**', 'college': 'skh pu college', 'gender': 'male'}\n",
            "skh pu college\n",
            "{'roll_number': 201, 'name': 'sachin', 'address': 'ghataprabha', 'CGPA': 2.55, 'course': 'MCA', 'year': '2022', 'mobile number': '99013953**', 'college': 'skh pu college', 'gender': 'male', 'age': '18'}\n",
            "{'roll_number': 201, 'name': 'sachin', 'CGPA': 2.55, 'course': 'MCA', 'year': '2022', 'mobile number': '99013953**', 'college': 'skh pu college', 'gender': 'male', 'age': '18'}\n",
            "9\n",
            "('age', '18')\n",
            "dict_keys(['roll_number', 'name', 'CGPA', 'course', 'year', 'mobile number', 'college', 'gender'])\n",
            "dict_values([201, 'sachin', 2.55, 'MCA', '2022', '99013953**', 'skh pu college', 'male'])\n",
            "dict_items([('roll_number', 201), ('name', 'sachin'), ('CGPA', 2.55), ('course', 'MCA'), ('year', '2022'), ('mobile number', '99013953**'), ('college', 'skh pu college'), ('gender', 'male')])\n",
            "None\n"
          ]
        }
      ]
    },
    {
      "cell_type": "code",
      "source": [
        "Dict={\"roll_number\":76,\n",
        "      \"name\":\"sachin\",\n",
        "      \"address\":\"gokak\",\n",
        "      \"CGPA\":100.55,\n",
        "      \"course\":\"MCA\",\n",
        "      \"year\":\"2026\"\n",
        "      }\n",
        "print(Dict)\n",
        "print(len(Dict))\n",
        "Dict[\"gender\"]=\"male\"\n",
        "print(Dict)\n",
        "Dict[\"mobile number\"]=\"9901395377\"\n",
        "print(Dict)\n",
        "Dict[\"college\"]=\"basavaprabhu kore college chikodi\"\n",
        "print(Dict)\n",
        "Dict[\"college\"]=\"skh pu college\"\n",
        "print(Dict)\n",
        "del Dict[\"gender\"]\n",
        "print(Dict)\n",
        "Dict[\"gender\"] = \"male\"\n",
        "print(Dict)\n",
        "print(Dict[\"college\"])\n",
        "Dict[\"age\"] = \"20\"\n",
        "print(Dict)\n",
        "Dict.pop(\"address\")\n",
        "print(Dict)\n",
        "print(len(Dict))\n",
        "print(Dict.popitem())\n",
        "print(Dict.keys())\n",
        "print(Dict.values())\n",
        "print(Dict.items())\n",
        "print(Dict.clear())\n"
      ],
      "metadata": {
        "colab": {
          "base_uri": "https://localhost:8080/"
        },
        "id": "zlR6pG7YMFkt",
        "outputId": "82c89b92-d4d1-4329-f775-b4bc20a3def6"
      },
      "execution_count": null,
      "outputs": [
        {
          "output_type": "stream",
          "name": "stdout",
          "text": [
            "{'roll_number': 76, 'name': 'sachin', 'address': 'gokak', 'CGPA': 100.55, 'course': 'MCA', 'year': '2026'}\n",
            "6\n",
            "{'roll_number': 76, 'name': 'sachin', 'address': 'gokak', 'CGPA': 100.55, 'course': 'MCA', 'year': '2026', 'gender': 'male'}\n",
            "{'roll_number': 76, 'name': 'sachin', 'address': 'gokak', 'CGPA': 100.55, 'course': 'MCA', 'year': '2026', 'gender': 'male', 'mobile number': '9901395377'}\n",
            "{'roll_number': 76, 'name': 'sachin', 'address': 'gokak', 'CGPA': 100.55, 'course': 'MCA', 'year': '2026', 'gender': 'male', 'mobile number': '9901395377', 'college': 'basavaprabhu kore college chikodi'}\n",
            "{'roll_number': 76, 'name': 'sachin', 'address': 'gokak', 'CGPA': 100.55, 'course': 'MCA', 'year': '2026', 'gender': 'male', 'mobile number': '9901395377', 'college': 'skh pu college'}\n",
            "{'roll_number': 76, 'name': 'sachin', 'address': 'gokak', 'CGPA': 100.55, 'course': 'MCA', 'year': '2026', 'mobile number': '9901395377', 'college': 'skh pu college'}\n",
            "{'roll_number': 76, 'name': 'sachin', 'address': 'gokak', 'CGPA': 100.55, 'course': 'MCA', 'year': '2026', 'mobile number': '9901395377', 'college': 'skh pu college', 'gender': 'male'}\n",
            "skh pu college\n",
            "{'roll_number': 76, 'name': 'sachin', 'address': 'gokak', 'CGPA': 100.55, 'course': 'MCA', 'year': '2026', 'mobile number': '9901395377', 'college': 'skh pu college', 'gender': 'male', 'age': '20'}\n",
            "{'roll_number': 76, 'name': 'sachin', 'CGPA': 100.55, 'course': 'MCA', 'year': '2026', 'mobile number': '9901395377', 'college': 'skh pu college', 'gender': 'male', 'age': '20'}\n",
            "9\n",
            "('age', '20')\n",
            "dict_keys(['roll_number', 'name', 'CGPA', 'course', 'year', 'mobile number', 'college', 'gender'])\n",
            "dict_values([76, 'sachin', 100.55, 'MCA', '2026', '9901395377', 'skh pu college', 'male'])\n",
            "dict_items([('roll_number', 76), ('name', 'sachin'), ('CGPA', 100.55), ('course', 'MCA'), ('year', '2026'), ('mobile number', '9901395377'), ('college', 'skh pu college'), ('gender', 'male')])\n",
            "None\n"
          ]
        }
      ]
    },
    {
      "cell_type": "code",
      "source": [
        "employee={\"employee_id\":1001,\n",
        "          \"employee_name\":\"sachin\",\n",
        "          \"contact_number\":9901395377,\n",
        "          \"salary\":200000,\n",
        "          \"email_id\":\"sachinkhanapure@gmail.com\",\n",
        "          \"company\":\"Google\",\n",
        "          \"employee_habbit\":\"running\",\n",
        "          }\n",
        "print(employee)\n",
        "employee[\"country\"] = \"india\"\n",
        "employee[\"pin code\"] = \"591203\"\n",
        "print(type(employee))\n",
        "print(len(employee))\n",
        "employee.pop(\"email_id\")\n",
        "employee[\"department\"] = \"developer\"\n",
        "print(employee)\n",
        "print(employee[\"salary\"])\n",
        "print(len(employee))\n",
        "employee[\"department\"]=\"testing\"\n",
        "print(type(employee))\n",
        "print(employee.popitem())\n",
        "print(employee.keys())\n",
        "print(employee.values())\n",
        "name={\"name\":\"sachin\",\n",
        "      \"name\":\"sachin\",\n",
        "      \"f_name\":\"sachin\",\n",
        "      \"l_name\":\"sachin\"\n",
        "      }\n",
        "print(name)"
      ],
      "metadata": {
        "colab": {
          "base_uri": "https://localhost:8080/"
        },
        "id": "T18wIDB7ROrq",
        "outputId": "1f2e68c9-e788-433a-f29e-d9a42843253e"
      },
      "execution_count": 138,
      "outputs": [
        {
          "output_type": "stream",
          "name": "stdout",
          "text": [
            "{'employee_id': 1001, 'employee_name': 'sachin', 'contact_number': 9901395377, 'salary': 200000, 'email_id': 'sachinkhanapure@gmail.com', 'company': 'Google', 'employee_habbit': 'running'}\n",
            "<class 'dict'>\n",
            "9\n",
            "{'employee_id': 1001, 'employee_name': 'sachin', 'contact_number': 9901395377, 'salary': 200000, 'company': 'Google', 'employee_habbit': 'running', 'country': 'india', 'pin code': '591203', 'department': 'developer'}\n",
            "200000\n",
            "9\n",
            "<class 'dict'>\n",
            "('department', 'testing')\n",
            "dict_keys(['employee_id', 'employee_name', 'contact_number', 'salary', 'company', 'employee_habbit', 'country', 'pin code'])\n",
            "dict_values([1001, 'sachin', 9901395377, 200000, 'Google', 'running', 'india', '591203'])\n",
            "{'name': 'sachin', 'f_name': 'sachin', 'l_name': 'sachin'}\n"
          ]
        }
      ]
    },
    {
      "cell_type": "code",
      "source": [
        "a=10\n",
        "b=3\n",
        "c=a/b\n",
        "print(a/b)\n",
        "print(type(c))"
      ],
      "metadata": {
        "colab": {
          "base_uri": "https://localhost:8080/"
        },
        "id": "KKH69ySfujzj",
        "outputId": "5d556eb1-cb6a-487f-ac05-556f75eb71dd"
      },
      "execution_count": 143,
      "outputs": [
        {
          "output_type": "stream",
          "name": "stdout",
          "text": [
            "3.3333333333333335\n",
            "<class 'float'>\n"
          ]
        }
      ]
    },
    {
      "cell_type": "code",
      "source": [
        "from re import T\n",
        "a,b,c=2.5,3.5,a+b\n",
        "print(a+b)\n",
        "print(type(a))\n",
        "print(type(b))\n",
        "print(type(c))\n",
        "i=20\n",
        "j=5.5\n",
        "k=i+j\n",
        "print(type(k))\n",
        "\n",
        "a=49\n",
        "b=7\n",
        "print(type(a/b))\n",
        "i=True\n",
        "print(type(i))\n",
        "j=5\n",
        "print(type(i+j))"
      ],
      "metadata": {
        "colab": {
          "base_uri": "https://localhost:8080/"
        },
        "id": "3iQbxMSvwUxi",
        "outputId": "f28b091b-1a04-4195-d14b-e34b5a8ce9ba"
      },
      "execution_count": 147,
      "outputs": [
        {
          "output_type": "stream",
          "name": "stdout",
          "text": [
            "6.0\n",
            "<class 'float'>\n",
            "<class 'float'>\n",
            "<class 'int'>\n",
            "<class 'float'>\n",
            "<class 'float'>\n",
            "<class 'bool'>\n",
            "<class 'int'>\n"
          ]
        }
      ]
    },
    {
      "cell_type": "code",
      "source": [
        "m=2.9\n",
        "n=False\n",
        "o=m-n\n",
        "print(type(o))\n",
        "\n",
        "\n",
        "p=True\n",
        "q=False\n",
        "r=p+q\n",
        "print(type(r))\n",
        "\n",
        "\n",
        "s=2.6\n",
        "t=False\n",
        "print(type(s*t))\n",
        "\n",
        "\n"
      ],
      "metadata": {
        "id": "ADXScF7ZOEZT",
        "colab": {
          "base_uri": "https://localhost:8080/"
        },
        "outputId": "47725029-80f7-4488-bba6-aa94f6e4778a"
      },
      "execution_count": 152,
      "outputs": [
        {
          "output_type": "stream",
          "name": "stdout",
          "text": [
            "<class 'float'>\n",
            "<class 'int'>\n",
            "<class 'float'>\n"
          ]
        }
      ]
    },
    {
      "cell_type": "code",
      "source": [
        "num = 3.12\n",
        "print(type(num))\n",
        "add = int(num)\n",
        "print(type(add))\n",
        "print(type(num))"
      ],
      "metadata": {
        "colab": {
          "base_uri": "https://localhost:8080/"
        },
        "id": "KGjHKO7vzHBX",
        "outputId": "21a65048-86e8-48d3-e0b1-27f08175a5bd"
      },
      "execution_count": 155,
      "outputs": [
        {
          "output_type": "stream",
          "name": "stdout",
          "text": [
            "<class 'float'>\n",
            "<class 'int'>\n",
            "<class 'float'>\n"
          ]
        }
      ]
    },
    {
      "cell_type": "code",
      "source": [
        "num=\"101\"\n",
        "print(type(num))\n",
        "add=(int(num))\n",
        "print(type(add))\n",
        "\n",
        "\n",
        "sub=False\n",
        "add=int(sub)\n",
        "\n",
        "\n",
        "\n",
        "demo=1\n",
        "print(type(demo))\n",
        "print(type(bool(demo)))\n",
        "\n",
        "demo=9.99\n",
        "print(type(demo))\n",
        "print(type(float(demo)))\n",
        "Demo = False\n",
        "print(type(Demo))\n",
        "print(type(float(Demo)))"
      ],
      "metadata": {
        "colab": {
          "base_uri": "https://localhost:8080/"
        },
        "id": "FEnb-2Xg298G",
        "outputId": "28c7d977-359c-4b21-d442-6e49c14c0f2f"
      },
      "execution_count": 174,
      "outputs": [
        {
          "output_type": "stream",
          "name": "stdout",
          "text": [
            "<class 'str'>\n",
            "<class 'int'>\n",
            "<class 'int'>\n",
            "<class 'bool'>\n",
            "<class 'float'>\n",
            "<class 'float'>\n",
            "<class 'bool'>\n",
            "<class 'float'>\n"
          ]
        }
      ]
    },
    {
      "cell_type": "code",
      "source": [
        "#1.Str -List\n",
        "Num1 = \"shreeshail\"\n",
        "print(type(Num1))\n",
        "\n",
        "Ex1 = list(Num1)\n",
        "print(type(Ex1))"
      ],
      "metadata": {
        "colab": {
          "base_uri": "https://localhost:8080/"
        },
        "id": "VAC48_HA_5F4",
        "outputId": "012e91dc-b218-4dbc-afa1-decc861b5829"
      },
      "execution_count": 181,
      "outputs": [
        {
          "output_type": "stream",
          "name": "stdout",
          "text": [
            "<class 'str'>\n",
            "<class 'list'>\n"
          ]
        }
      ]
    },
    {
      "cell_type": "code",
      "source": [
        "a = (10,20)\n",
        "print(type(list(a)))"
      ],
      "metadata": {
        "colab": {
          "base_uri": "https://localhost:8080/"
        },
        "id": "yQyBBnc9BPn3",
        "outputId": "081cffa0-49df-4ecd-b402-141029b818f2"
      },
      "execution_count": 182,
      "outputs": [
        {
          "output_type": "stream",
          "name": "stdout",
          "text": [
            "<class 'list'>\n"
          ]
        }
      ]
    },
    {
      "cell_type": "code",
      "source": [
        "#2) tuple  -list\n",
        "a = (1,2,3,4,5)\n",
        "print(type(list(a)))"
      ],
      "metadata": {
        "colab": {
          "base_uri": "https://localhost:8080/"
        },
        "id": "P3fPcQlMCDUz",
        "outputId": "ab44fe11-8cd4-401f-eb80-99ec404dd349"
      },
      "execution_count": 184,
      "outputs": [
        {
          "output_type": "stream",
          "name": "stdout",
          "text": [
            "<class 'list'>\n"
          ]
        }
      ]
    },
    {
      "cell_type": "code",
      "source": [
        "a = (1,2)\n",
        "print(type(list(a)))"
      ],
      "metadata": {
        "colab": {
          "base_uri": "https://localhost:8080/"
        },
        "id": "3w3T6vbLDg_Y",
        "outputId": "84e1b447-1153-4027-c02f-63c30760d018"
      },
      "execution_count": 190,
      "outputs": [
        {
          "output_type": "stream",
          "name": "stdout",
          "text": [
            "<class 'list'>\n"
          ]
        }
      ]
    },
    {
      "cell_type": "code",
      "source": [
        "#3)set -list\n",
        "num3 ={1,23,4,5}\n",
        "print(type(num3))"
      ],
      "metadata": {
        "colab": {
          "base_uri": "https://localhost:8080/"
        },
        "id": "YyzGQaNNB6XB",
        "outputId": "b0f58fc7-ad87-48b0-b049-a026b3de9f2b"
      },
      "execution_count": 185,
      "outputs": [
        {
          "output_type": "stream",
          "name": "stdout",
          "text": [
            "<class 'set'>\n"
          ]
        }
      ]
    },
    {
      "cell_type": "code",
      "source": [
        "ex3 = list(num3)\n",
        "print(type(ex3))"
      ],
      "metadata": {
        "colab": {
          "base_uri": "https://localhost:8080/"
        },
        "id": "QaSFy9dECxwY",
        "outputId": "7a67a955-262f-4194-b2cf-a9f8389ef7d9"
      },
      "execution_count": 187,
      "outputs": [
        {
          "output_type": "stream",
          "name": "stdout",
          "text": [
            "<class 'list'>\n"
          ]
        }
      ]
    },
    {
      "cell_type": "code",
      "source": [
        "#4)dict -list\n",
        "num4 ={}\n",
        "print(type(num4))"
      ],
      "metadata": {
        "colab": {
          "base_uri": "https://localhost:8080/"
        },
        "id": "Q81aQNmtC-0f",
        "outputId": "50079ae5-549a-429b-bb7d-003c53fe018e"
      },
      "execution_count": 188,
      "outputs": [
        {
          "output_type": "stream",
          "name": "stdout",
          "text": [
            "<class 'dict'>\n"
          ]
        }
      ]
    },
    {
      "cell_type": "code",
      "source": [
        "ex4 = list(num4)\n",
        "print(type(ex4))"
      ],
      "metadata": {
        "colab": {
          "base_uri": "https://localhost:8080/"
        },
        "id": "pO0TMlo8DOa4",
        "outputId": "40806375-ced5-4400-dcb0-819f7fe1f90d"
      },
      "execution_count": 189,
      "outputs": [
        {
          "output_type": "stream",
          "name": "stdout",
          "text": [
            "<class 'list'>\n"
          ]
        }
      ]
    },
    {
      "cell_type": "code",
      "source": [
        "\n",
        "print(\"a=20, b=10\")"
      ],
      "metadata": {
        "colab": {
          "base_uri": "https://localhost:8080/"
        },
        "id": "l4AVfXfFDrXR",
        "outputId": "86db0653-3d0f-418e-f3d6-f88ee31d8aba"
      },
      "execution_count": 195,
      "outputs": [
        {
          "output_type": "stream",
          "name": "stdout",
          "text": [
            "a=20, b=10\n"
          ]
        }
      ]
    },
    {
      "cell_type": "code",
      "source": [
        "Num3 = ((\"Name\"),\"Shreeshail\"),(\"Age\",25)\n",
        "print(type(Num3))"
      ],
      "metadata": {
        "colab": {
          "base_uri": "https://localhost:8080/"
        },
        "id": "8qsu5EyXGfRR",
        "outputId": "08453182-3d92-496f-ebd9-133b6d0be1be"
      },
      "execution_count": 204,
      "outputs": [
        {
          "output_type": "stream",
          "name": "stdout",
          "text": [
            "<class 'tuple'>\n"
          ]
        }
      ]
    },
    {
      "cell_type": "code",
      "source": [
        "Num4 ={(\"Roll_number\",501),(\"section\",\"c\")}\n",
        "print(type(Num4))"
      ],
      "metadata": {
        "colab": {
          "base_uri": "https://localhost:8080/"
        },
        "id": "VewfAbXiIif5",
        "outputId": "b1994c21-7759-4ec8-f33e-339f90e5428e"
      },
      "execution_count": 202,
      "outputs": [
        {
          "output_type": "stream",
          "name": "stdout",
          "text": [
            "<class 'set'>\n"
          ]
        }
      ]
    },
    {
      "cell_type": "code",
      "source": [
        "Ex4 = dict(num4)\n",
        "print(type(Ex4))"
      ],
      "metadata": {
        "colab": {
          "base_uri": "https://localhost:8080/"
        },
        "id": "Inspr8rdJEGy",
        "outputId": "b720079a-baa9-4f24-a80c-fdffb82dfebf"
      },
      "execution_count": 203,
      "outputs": [
        {
          "output_type": "stream",
          "name": "stdout",
          "text": [
            "<class 'dict'>\n"
          ]
        }
      ]
    },
    {
      "cell_type": "code",
      "source": [
        "int(3.8)\n",
        "print(int)"
      ],
      "metadata": {
        "colab": {
          "base_uri": "https://localhost:8080/"
        },
        "id": "KmS7CBWAKv4r",
        "outputId": "b04c6db2-1241-4d5c-fb02-604e5ec3e451"
      },
      "execution_count": 205,
      "outputs": [
        {
          "output_type": "stream",
          "name": "stdout",
          "text": [
            "<class 'int'>\n"
          ]
        }
      ]
    },
    {
      "cell_type": "code",
      "source": [
        "A = 10\n",
        "B= 20\n",
        "print(\"Before Swapping\")\n",
        "print(\"A =\",A,\"B =\",B)\n",
        "\n",
        "print(\"After Swapping\")\n",
        "temp = A\n",
        "A = B\n",
        "B = temp\n",
        "print(\"A =\",A,\"B =\",B)"
      ],
      "metadata": {
        "colab": {
          "base_uri": "https://localhost:8080/"
        },
        "id": "GAPKXaJIMZfK",
        "outputId": "8ca37f3d-cb82-46eb-ae00-569d12df97a2"
      },
      "execution_count": 210,
      "outputs": [
        {
          "output_type": "stream",
          "name": "stdout",
          "text": [
            "Before Swapping\n",
            "A = 10 B = 20\n",
            "After Swapping\n",
            "A = 20 B = 10\n"
          ]
        }
      ]
    }
  ]
}