{
  "cells": [
    {
      "cell_type": "code",
      "execution_count": 9,
      "metadata": {
        "colab": {
          "base_uri": "https://localhost:8080/"
        },
        "id": "UDRxbKKP1T5B",
        "outputId": "5129e9ab-78cc-464a-83de-9ef5c3367dcc"
      },
      "outputs": [
        {
          "output_type": "stream",
          "name": "stdout",
          "text": [
            "['laptop', 39000, 'window', 'lenovo', 'bengaluru', 'laptop', 39000, 'MAC', 'lenovo', 'chikodi']\n",
            "2\n"
          ]
        }
      ],
      "source": [
        "example = [\"laptop\",39000, \"window\",\"lenovo\",\"bengaluru\",\"laptop\",39000,\"MAC\",\"lenovo\",\"chikodi\"]\n",
        "print(example)\n",
        "print(example.count(\"lenovo\"))\n"
      ]
    },
    {
      "cell_type": "code",
      "source": [
        "#compile time programe\n",
        "A = 10\n",
        "B = 20\n",
        "print(A+B)"
      ],
      "metadata": {
        "colab": {
          "base_uri": "https://localhost:8080/"
        },
        "id": "vV6U6wmB8VcV",
        "outputId": "5db97bd4-2cae-4dea-b79c-e442005a8987"
      },
      "execution_count": 10,
      "outputs": [
        {
          "output_type": "stream",
          "name": "stdout",
          "text": [
            "30\n"
          ]
        }
      ]
    },
    {
      "cell_type": "code",
      "source": [
        "#run time programe\n",
        "\n",
        "x = int(input(\"enter x value:\"))\n",
        "y = int(input(\"enter y value:\"))\n",
        "print(x+y)"
      ],
      "metadata": {
        "colab": {
          "base_uri": "https://localhost:8080/"
        },
        "id": "GUaeVKXL8wz0",
        "outputId": "600bcb5a-dd9e-464a-da03-e4c758b0ec3f"
      },
      "execution_count": 12,
      "outputs": [
        {
          "output_type": "stream",
          "name": "stdout",
          "text": [
            "enter x value:10\n",
            "enter y value:20\n",
            "30\n"
          ]
        }
      ]
    },
    {
      "cell_type": "code",
      "source": [
        "#addition of 10 and 20 value is =30\n",
        "x = int(input(\"enter x value:\"))\n",
        "y = int(input(\"enter y value:\"))\n",
        "print(\"Addition of \",x , \"and\",y,\"value is =\",x+y)"
      ],
      "metadata": {
        "colab": {
          "base_uri": "https://localhost:8080/"
        },
        "id": "R0G0rkbP-IPs",
        "outputId": "7cb07498-90f2-4e75-da56-ba34346572c5"
      },
      "execution_count": 16,
      "outputs": [
        {
          "output_type": "stream",
          "name": "stdout",
          "text": [
            "enter x value:10\n",
            "enter y value:20\n",
            "Addition of  10 and 20 value is = 30\n"
          ]
        }
      ]
    },
    {
      "cell_type": "code",
      "source": [
        "first = float(input(\"enter first value:\"))\n",
        "second = float(input(\"enter second value:\"))\n",
        "print(first*second)"
      ],
      "metadata": {
        "colab": {
          "base_uri": "https://localhost:8080/"
        },
        "id": "ZlFRkKsQASc1",
        "outputId": "30840543-b180-4c83-cb93-bddab9ad9698"
      },
      "execution_count": 17,
      "outputs": [
        {
          "output_type": "stream",
          "name": "stdout",
          "text": [
            "enter first value:10\n",
            "enter second value:5\n",
            "50.0\n"
          ]
        }
      ]
    },
    {
      "cell_type": "code",
      "source": [
        "first_name = input(\"enter first name\")\n",
        "last_name = input(\"enter last name\")\n",
        "print(first_name+\"\"+last_name)"
      ],
      "metadata": {
        "colab": {
          "base_uri": "https://localhost:8080/"
        },
        "id": "ZUoDe7k_BD9e",
        "outputId": "7b842788-eff7-4e27-e031-79d116adc303"
      },
      "execution_count": 19,
      "outputs": [
        {
          "output_type": "stream",
          "name": "stdout",
          "text": [
            "enter first nameshreeshail\n",
            "enter last name kerur\n",
            "shreeshail kerur\n"
          ]
        }
      ]
    },
    {
      "cell_type": "code",
      "source": [
        "i=float(input(\"enter i value:\"))\n",
        "j=float(input(\"enter j value:\"))\n",
        "print(i*j)"
      ],
      "metadata": {
        "colab": {
          "base_uri": "https://localhost:8080/"
        },
        "id": "i8eqO2Q_CHk-",
        "outputId": "153dc173-8460-41b9-fc64-09d6c53d132c"
      },
      "execution_count": 25,
      "outputs": [
        {
          "output_type": "stream",
          "name": "stdout",
          "text": [
            "enter i value:7\n",
            "enter j value:6\n",
            "42.0\n"
          ]
        }
      ]
    },
    {
      "cell_type": "code",
      "source": [
        "i = input()\n",
        "j = input()\n",
        "print(i+j)"
      ],
      "metadata": {
        "colab": {
          "base_uri": "https://localhost:8080/"
        },
        "id": "DyAt8Oh7GNOm",
        "outputId": "25f64ba9-f8af-4cc1-c6ad-1cea934d23f8"
      },
      "execution_count": 26,
      "outputs": [
        {
          "output_type": "stream",
          "name": "stdout",
          "text": [
            "Bkc\n",
            "college\n",
            "Bkccollege\n"
          ]
        }
      ]
    },
    {
      "cell_type": "code",
      "source": [
        "name = 'shreeshail';age=18\n",
        "print(f'my name is {name} and i am{age}years old.')"
      ],
      "metadata": {
        "colab": {
          "base_uri": "https://localhost:8080/"
        },
        "id": "g6Dl1I9CHtqe",
        "outputId": "fce2754f-796d-429f-e5a5-bf4c04b8040d"
      },
      "execution_count": 28,
      "outputs": [
        {
          "output_type": "stream",
          "name": "stdout",
          "text": [
            "my name is shreeshail and i am18years old.\n"
          ]
        }
      ]
    },
    {
      "cell_type": "code",
      "source": [
        "x= 100\n",
        "y= 50\n",
        "print(f'addition of {x} and {y} value is= {x+y}')\n",
        "x= 100\n",
        "y= 50\n",
        "print(f'division of {x} and {y} value is= {x/y}')"
      ],
      "metadata": {
        "colab": {
          "base_uri": "https://localhost:8080/"
        },
        "id": "ZKs0nsb6I87W",
        "outputId": "d31ce54e-b653-40e3-e0af-9bfc34736fc3"
      },
      "execution_count": 32,
      "outputs": [
        {
          "output_type": "stream",
          "name": "stdout",
          "text": [
            "addition of 100 and 50 value is= 150\n",
            "division of 100 and 50 value is= 2.0\n"
          ]
        }
      ]
    },
    {
      "cell_type": "code",
      "source": [
        "#airthmetic operation\n",
        "num1 = int(input(\"enter num1 value:\"))\n",
        "num2 = int(input(\"enter num2 value:\"))\n",
        "print(\"addition of two numbers is : \",num1 + num2)\n",
        "print()\n",
        "print(\"subtraction of two numbers is : \",num1 - num2)\n",
        "print()\n",
        "print(\"multiplication of two numbers is : \",num1 * num2)\n",
        "print()\n",
        "print(\"division of two numbers is : \",num1 / num2)\n",
        "print()\n",
        "print(\"modulus of two numbers is : \",num1 % num2)\n",
        "print()\n",
        "print(\"floor division of two numbers is :\",num1 // num2)\n",
        "print()\n",
        "print(\"exponent of two numbers is : \",num1 ** num2)\n",
        "print()\n",
        "\n",
        "\n",
        "\n"
      ],
      "metadata": {
        "colab": {
          "base_uri": "https://localhost:8080/"
        },
        "id": "kvUFXq0nR6pn",
        "outputId": "9ebbd21b-42dc-4cea-d053-6a10a0587e83"
      },
      "execution_count": 54,
      "outputs": [
        {
          "output_type": "stream",
          "name": "stdout",
          "text": [
            "enter num1 value:10\n",
            "enter num2 value:5\n",
            "addition of two numbers is :  15\n",
            "\n",
            "subtraction of two numbers is :  5\n",
            "\n",
            "multiplication of two numbers is :  50\n",
            "\n",
            "division of two numbers is :  2.0\n",
            "\n",
            "modulus of two numbers is :  0\n",
            "\n",
            "floor division of two numbers is : 2\n",
            "\n",
            "exponent of two numbers is :  100000\n",
            "\n"
          ]
        }
      ]
    },
    {
      "cell_type": "code",
      "source": [
        "number1 = 25\n",
        "number2 = 30\n",
        "print(number1 > number2)\n",
        "print()\n",
        "print(number2 < number1)\n",
        "print()\n",
        "print(number1 == 25)\n",
        "print()\n",
        "print(number1 <= number2)\n",
        "print()\n",
        "print(number2 != 30)\n",
        "print()\n",
        "print(number2 >= 30)\n",
        "print()\n",
        "print(10 != 20)\n",
        "print()\n",
        "print(number1 == number2)\n",
        "print()\n",
        "print(number2 != number1)"
      ],
      "metadata": {
        "colab": {
          "base_uri": "https://localhost:8080/"
        },
        "id": "rIVWoebCYQFA",
        "outputId": "19949ae3-d18a-4b56-fdc0-7835711c2332"
      },
      "execution_count": 59,
      "outputs": [
        {
          "output_type": "stream",
          "name": "stdout",
          "text": [
            "False\n",
            "\n",
            "False\n",
            "\n",
            "True\n",
            "\n",
            "True\n",
            "\n",
            "False\n",
            "\n",
            "True\n",
            "\n",
            "True\n",
            "\n",
            "False\n",
            "\n",
            "True\n"
          ]
        }
      ]
    },
    {
      "cell_type": "code",
      "source": [
        "a = 20\n",
        "b = 35\n",
        "c = 13\n",
        "d = 10\n",
        "print(a == b and c < d)\n",
        "print(13 != c and d < c)\n",
        "print(b > a and d < c)\n",
        "print(20 != a and c == b)\n",
        "print(a < b or d == c)\n",
        "print((not(a < b)) and 100 < 200)\n",
        "print(not(d == 10))\n",
        "print(35!=d or (not(20==a)))\n",
        "print(not(c<=b and (not(a<=c))))\n"
      ],
      "metadata": {
        "colab": {
          "base_uri": "https://localhost:8080/"
        },
        "id": "oPpUQ5WtfJWC",
        "outputId": "2e60a187-d489-465c-b9ec-49732f7357f4"
      },
      "execution_count": 67,
      "outputs": [
        {
          "output_type": "stream",
          "name": "stdout",
          "text": [
            "False\n",
            "False\n",
            "True\n",
            "False\n",
            "True\n",
            "False\n",
            "False\n",
            "True\n",
            "False\n"
          ]
        }
      ]
    },
    {
      "cell_type": "code",
      "source": [
        "x = 10\n",
        "print(x)\n",
        "x-=2\n",
        "print(x)\n",
        "x*=5\n",
        "print(x)\n",
        "x//= 4\n",
        "print(x)\n",
        "x**=2\n",
        "print(x)\n",
        "x%=4\n",
        "print(x)\n",
        "x+=9\n",
        "print(x)\n",
        "x/= 3\n",
        "print(x)\n",
        "\n"
      ],
      "metadata": {
        "colab": {
          "base_uri": "https://localhost:8080/"
        },
        "id": "llDkVwmzkPz6",
        "outputId": "35f8e17e-ad2d-485f-fd6e-2b8e76ffcad3"
      },
      "execution_count": 97,
      "outputs": [
        {
          "output_type": "stream",
          "name": "stdout",
          "text": [
            "10\n",
            "8\n",
            "40\n",
            "10\n",
            "100\n",
            "0\n",
            "9\n",
            "3.0\n"
          ]
        }
      ]
    },
    {
      "cell_type": "code",
      "source": [
        "num = 9\n",
        "if num < 10 :\n",
        "  print(\"num is a greater  then 9\")"
      ],
      "metadata": {
        "colab": {
          "base_uri": "https://localhost:8080/"
        },
        "id": "Q1Gxg6Js7PRp",
        "outputId": "cdac68df-36bf-4bce-fe40-cf364431b501"
      },
      "execution_count": 99,
      "outputs": [
        {
          "output_type": "stream",
          "name": "stdout",
          "text": [
            "num is a greater  then 9\n"
          ]
        }
      ]
    },
    {
      "cell_type": "code",
      "source": [
        "User_id = \"20MCA103\"\n",
        "Password = 1234\n",
        "if User_id == \"20MCA103\" and Password == 1234:\n",
        "    print(\"Login Successfully\")"
      ],
      "metadata": {
        "colab": {
          "base_uri": "https://localhost:8080/"
        },
        "id": "nEKay4Oy_N73",
        "outputId": "0b5a8e69-0334-4c2b-8157-de7430b21570"
      },
      "execution_count": 110,
      "outputs": [
        {
          "output_type": "stream",
          "name": "stdout",
          "text": [
            "Login Successfully\n"
          ]
        }
      ]
    },
    {
      "cell_type": "code",
      "source": [
        "name = \"shreeshail\"\n",
        "if name <= \"BKC\":\n",
        "     print(\"my name is shreeshail\")"
      ],
      "metadata": {
        "id": "XFJPHSx_Amde"
      },
      "execution_count": 113,
      "outputs": []
    },
    {
      "cell_type": "code",
      "source": [
        "num=int(input(\"enter a number value :\"))\n",
        "if num > 0 :\n",
        "   print(\"positive number\")\n",
        "else :\n",
        "   print(\"negative number\")"
      ],
      "metadata": {
        "colab": {
          "base_uri": "https://localhost:8080/"
        },
        "id": "IvXDDH3PBzBb",
        "outputId": "c5fe9f0d-e451-41fa-ef56-a1883c4074f5"
      },
      "execution_count": 118,
      "outputs": [
        {
          "output_type": "stream",
          "name": "stdout",
          "text": [
            "enter a number value :5\n",
            "positive number\n"
          ]
        }
      ]
    },
    {
      "cell_type": "code",
      "source": [
        "num=int(input(\"enter a number value :\"))\n",
        "if num > 0 :\n",
        "   print(\"even number\")\n",
        "else :\n",
        "   print(\"odd number\")"
      ],
      "metadata": {
        "colab": {
          "base_uri": "https://localhost:8080/"
        },
        "id": "UBNkeqrpE2i4",
        "outputId": "b217feb3-4ae8-4d0f-f62d-24eefd787461"
      },
      "execution_count": 123,
      "outputs": [
        {
          "output_type": "stream",
          "name": "stdout",
          "text": [
            "enter a number value :5\n",
            "even number\n"
          ]
        }
      ]
    },
    {
      "cell_type": "code",
      "source": [
        "year=int(input(\"enter the year value\"))\n",
        "if year % 4==0 :\n",
        "    print(\"leap year\")\n",
        "else:\n",
        "    print(\"not leaf year\")"
      ],
      "metadata": {
        "colab": {
          "base_uri": "https://localhost:8080/"
        },
        "id": "Ecj5lgMwHz0t",
        "outputId": "ccb56fb5-93df-4f0e-b4a5-8e141900bd1e"
      },
      "execution_count": 126,
      "outputs": [
        {
          "output_type": "stream",
          "name": "stdout",
          "text": [
            "enter the year value2008\n",
            "leap year\n"
          ]
        }
      ]
    },
    {
      "cell_type": "code",
      "source": [
        "age = int(input(\"enter a number value\"))\n",
        "if age >= 18 :\n",
        "  print(\"voter\")\n",
        "else:\n",
        "  print(\"non voter\")"
      ],
      "metadata": {
        "colab": {
          "base_uri": "https://localhost:8080/"
        },
        "id": "7oyhiwrFJTJ4",
        "outputId": "f08fa9ce-d429-47c8-c7f6-9d93a6df83c3"
      },
      "execution_count": 133,
      "outputs": [
        {
          "output_type": "stream",
          "name": "stdout",
          "text": [
            "enter a number value21\n",
            "voter\n"
          ]
        }
      ]
    },
    {
      "cell_type": "code",
      "source": [
        "password = int(input(\"enter a number value\"))\n",
        "if password == 7676 :\n",
        "   print(\"correct password\")\n",
        "else:\n",
        "   print(\"incorrect password\")"
      ],
      "metadata": {
        "colab": {
          "base_uri": "https://localhost:8080/"
        },
        "id": "GfgTccgWKvbw",
        "outputId": "f5ecbeda-d8c5-4a3b-9282-4a01f69db601"
      },
      "execution_count": 137,
      "outputs": [
        {
          "output_type": "stream",
          "name": "stdout",
          "text": [
            "enter a number value7676\n",
            "correct password\n"
          ]
        }
      ]
    },
    {
      "cell_type": "code",
      "source": [
        "User_id = input(\"enter the user_id value :\")\n",
        "Password = int(input(\"enter Password value: \"))\n",
        "if User_id == \"college\" and Password == 7676 :\n",
        "   print(\"login succesfully\")\n",
        "else:\n",
        "   print(\"Invalid details\")"
      ],
      "metadata": {
        "colab": {
          "base_uri": "https://localhost:8080/"
        },
        "id": "7PjOaNuiMElA",
        "outputId": "9a299239-5e66-459a-a253-713a0bb3698d"
      },
      "execution_count": 151,
      "outputs": [
        {
          "output_type": "stream",
          "name": "stdout",
          "text": [
            "enter the user_id value :college\n",
            "enter Password value: 7676\n",
            "login succesfully\n"
          ]
        }
      ]
    },
    {
      "cell_type": "code",
      "source": [
        "marks=int(input(\"enter the marks  value\"))\n",
        "if marks >= 85 :\n",
        "  print(\"distiction\")\n",
        "elif marks >= 70 :\n",
        "  print(\"first class\")\n",
        "elif marks >= 55 :\n",
        "  print(\"second class\")\n",
        "elif marks >= 35 :\n",
        "  print(\"just pass\")"
      ],
      "metadata": {
        "colab": {
          "base_uri": "https://localhost:8080/"
        },
        "id": "X4lNWQv2O6_r",
        "outputId": "205ec582-e58e-4de7-8184-f875095db548"
      },
      "execution_count": 161,
      "outputs": [
        {
          "output_type": "stream",
          "name": "stdout",
          "text": [
            "enter the marks  value62\n",
            "second class\n"
          ]
        }
      ]
    },
    {
      "cell_type": "code",
      "source": [
        "prize = input(\"enter prize medal\")\n",
        "if prize == \"gold\" :\n",
        "   print(\"first prize\")\n",
        "elif prize == \"silver\" :\n",
        "   print(\"second prize\")\n",
        "elif prize == \"bronze\" :\n",
        "   print(\"third prize\")\n",
        "elif prize == \"certificate\" :\n",
        "   print(\"samadhanakara bahumana\")\n",
        "else:\n",
        "   print(\"better luck next chance\")"
      ],
      "metadata": {
        "colab": {
          "base_uri": "https://localhost:8080/"
        },
        "id": "WgpEN73IUqLF",
        "outputId": "c5604c56-77fd-4598-8c67-370ac94c7066"
      },
      "execution_count": 162,
      "outputs": [
        {
          "output_type": "stream",
          "name": "stdout",
          "text": [
            "enter prize medalgold\n",
            "first prize\n"
          ]
        }
      ]
    },
    {
      "cell_type": "code",
      "source": [
        "colour = input(\"enter the coloue value\")\n",
        "if colour == \"red\" :\n",
        "  print(\"stop\")\n",
        "elif colour == \"yellow\" :\n",
        "  print(\"slow\")\n",
        "elif colour == \"green\" :\n",
        "  print(\"go speed\")\n",
        "else:\n",
        "  print(\"invalid colour\")"
      ],
      "metadata": {
        "colab": {
          "base_uri": "https://localhost:8080/"
        },
        "id": "uUQbEsTPV9CB",
        "outputId": "b74cc2e1-9e87-4e9f-cbbf-7b80dd3a1975"
      },
      "execution_count": 171,
      "outputs": [
        {
          "output_type": "stream",
          "name": "stdout",
          "text": [
            "enter the coloue valuegreen\n",
            "go speed\n"
          ]
        }
      ]
    },
    {
      "cell_type": "code",
      "source": [],
      "metadata": {
        "id": "PJMWhkoDWX8h"
      },
      "execution_count": null,
      "outputs": []
    }
  ],
  "metadata": {
    "colab": {
      "provenance": []
    },
    "kernelspec": {
      "display_name": "Python 3",
      "name": "python3"
    },
    "language_info": {
      "name": "python"
    }
  },
  "nbformat": 4,
  "nbformat_minor": 0
}