{
  "nbformat": 4,
  "nbformat_minor": 0,
  "metadata": {
    "colab": {
      "provenance": []
    },
    "kernelspec": {
      "name": "python3",
      "display_name": "Python 3"
    },
    "language_info": {
      "name": "python"
    }
  },
  "cells": [
    {
      "cell_type": "code",
      "execution_count": null,
      "metadata": {
        "colab": {
          "base_uri": "https://localhost:8080/"
        },
        "id": "jz03lWZnNGnU",
        "outputId": "182ef503-cc39-4059-9434-3ef712af5901"
      },
      "outputs": [
        {
          "output_type": "stream",
          "name": "stdout",
          "text": [
            "total vowel is : 9\n"
          ]
        }
      ],
      "source": [
        "sentences = \"Kle bk bca college in chikodi\"\n",
        "count = 0\n",
        "for ch in sentences:\n",
        "  if ch in \"aeiou\" :\n",
        "    count +=1\n",
        "print(\"total vowel is :\", count)"
      ]
    },
    {
      "cell_type": "code",
      "source": [
        "sentences = \"python programing language\"\n",
        "count = 0\n",
        "for ch in sentences:\n",
        "  if ch in \"aeiou\" :\n",
        "    count +=1\n",
        "print(\"total vowel is :\", count)"
      ],
      "metadata": {
        "colab": {
          "base_uri": "https://localhost:8080/"
        },
        "id": "fB4ePZsaP2je",
        "outputId": "254e4c74-8040-4815-ddbc-773319bb54cb"
      },
      "execution_count": null,
      "outputs": [
        {
          "output_type": "stream",
          "name": "stdout",
          "text": [
            "total vowel is : 8\n"
          ]
        }
      ]
    },
    {
      "cell_type": "code",
      "source": [
        "r = 4\n",
        "circle = 3.14 * r * r\n",
        "print(\"area of circle is :\", circle)"
      ],
      "metadata": {
        "colab": {
          "base_uri": "https://localhost:8080/"
        },
        "id": "q2G2vpC1QD0a",
        "outputId": "fc51d461-cfca-4ed4-c075-d5e424c492ee"
      },
      "execution_count": null,
      "outputs": [
        {
          "output_type": "stream",
          "name": "stdout",
          "text": [
            "area of circle is : 50.24\n"
          ]
        }
      ]
    },
    {
      "cell_type": "code",
      "source": [
        "ex = [5,25,35,28,45,10,15]\n",
        "largest_number = ex[0]\n",
        "for num in ex:\n",
        "    if num > largest_number:\n",
        "        largest_number = num\n",
        "print(\"The largest number in the list is:\", largest_number)\n"
      ],
      "metadata": {
        "id": "QwiVRl4MSElI"
      },
      "execution_count": null,
      "outputs": []
    },
    {
      "cell_type": "code",
      "source": [
        "sentens = \"Bachelor of computer science first semester section c\"\n",
        "count = 0\n",
        "vowels = \"aeiouAEIOU\"\n",
        "for ch in sentens:\n",
        "    if ch.isalpha() and ch not in vowels:\n",
        "        count += 1\n",
        "print(\"Total consonants is:\", count)\n"
      ],
      "metadata": {
        "id": "HODAUVKPZ9zS"
      },
      "execution_count": null,
      "outputs": []
    },
    {
      "cell_type": "code",
      "source": [
        "bikes =  [\"RX 100\",\"GT 650\",\"Ninja\",\"Splender\",\"Bajaj\",\"Pulsar\",\"NS 200\",\"M 80\",\"Unicorn\"]\n",
        "for bike in bikes :\n",
        "  if bike == \"NS 200\" :\n",
        "    break\n",
        "  print(bike)"
      ],
      "metadata": {
        "colab": {
          "base_uri": "https://localhost:8080/"
        },
        "id": "ns_KfJqDbWle",
        "outputId": "0a4c4c55-e0ef-44a1-dacb-860c830144d0"
      },
      "execution_count": null,
      "outputs": [
        {
          "output_type": "stream",
          "name": "stdout",
          "text": [
            "RX 100\n",
            "GT 650\n",
            "Ninja\n",
            "Splender\n",
            "Bajaj\n",
            "Pulsar\n"
          ]
        }
      ]
    },
    {
      "cell_type": "code",
      "source": [
        "\n",
        "colours = {\"Purple\",\"Pink\",\"Black\",\"white\",\"Red\",\"Orange\",\"Levender\",\"Grey\",\"Yellow\",\"Maroon\"}\n",
        "for color in colours :\n",
        "    if color == \"Black\" :\n",
        "       break\n",
        "    print(color)\n"
      ],
      "metadata": {
        "colab": {
          "base_uri": "https://localhost:8080/"
        },
        "id": "9az3Wl60t062",
        "outputId": "25da6ced-8543-4349-fe88-f4aa3b6ce7b2"
      },
      "execution_count": null,
      "outputs": [
        {
          "output_type": "stream",
          "name": "stdout",
          "text": [
            "Purple\n",
            "Pink\n",
            "Maroon\n",
            "Orange\n",
            "Red\n",
            "Levender\n",
            "Grey\n",
            "white\n"
          ]
        }
      ]
    },
    {
      "cell_type": "code",
      "source": [
        "fruits = (\"Apple\",\"Orange\",\"Mango\",\"Strawberry\",\"Dragan fruit\",\"Grapes\",\"Banana\",\"pappaya\",\"pinapal\")\n",
        "for fruits in fruits :\n",
        "  if fruits == \"Grapes\" :\n",
        "    continue\n",
        "  print(fruits)"
      ],
      "metadata": {
        "colab": {
          "base_uri": "https://localhost:8080/"
        },
        "id": "62aB7M6augt0",
        "outputId": "ea8fb663-9870-4d85-bec0-4c3dd4ee2f66"
      },
      "execution_count": null,
      "outputs": [
        {
          "output_type": "stream",
          "name": "stdout",
          "text": [
            "Apple\n",
            "Orange\n",
            "Mango\n",
            "Strawberry\n",
            "Dragan fruit\n",
            "Banana\n",
            "pappaya\n",
            "pinapal\n"
          ]
        }
      ]
    },
    {
      "cell_type": "code",
      "source": [],
      "metadata": {
        "id": "siONkr4mx81O"
      },
      "execution_count": null,
      "outputs": []
    },
    {
      "cell_type": "code",
      "source": [
        "mobiles = [\"vivo\",\"redmi\",\"oppo\",\"vivo\",\"vivo\",\"vivo\",\"oppo\",\"iqee\",\"vivo\",\"oneplse\"]\n",
        "for mobile in mobiles :\n",
        "  if mobile == \"vivo\" :\n",
        "    continue\n",
        "  print(mobile)"
      ],
      "metadata": {
        "colab": {
          "base_uri": "https://localhost:8080/"
        },
        "id": "i9pzYYsHx-1S",
        "outputId": "22c8cc14-ea11-4dde-ed14-3ecc2b164279"
      },
      "execution_count": null,
      "outputs": [
        {
          "output_type": "stream",
          "name": "stdout",
          "text": [
            "redmi\n",
            "oppo\n",
            "oppo\n",
            "iqee\n",
            "oneplse\n"
          ]
        }
      ]
    },
    {
      "cell_type": "code",
      "source": [
        "movies = [\"KGF\",\"Chhava\",\"Bahubali\",\"Saiyar\",\"RRR\",\"Kalki\",\"kannadakkagi ondannu otti\"]\n",
        "for movie in movies :\n",
        "  if movie == \"RRR\" :\n",
        "    continue\n",
        "  print(movie)"
      ],
      "metadata": {
        "colab": {
          "base_uri": "https://localhost:8080/"
        },
        "id": "TyhyLcAfz6wg",
        "outputId": "7178d176-3b56-44e4-ed88-3cfaea32c5a9"
      },
      "execution_count": null,
      "outputs": [
        {
          "output_type": "stream",
          "name": "stdout",
          "text": [
            "KGF\n",
            "Chhava\n",
            "Bahubali\n",
            "Saiyar\n",
            "Kalki\n",
            "kannadakkagi ondannu otti\n"
          ]
        }
      ]
    },
    {
      "cell_type": "code",
      "source": [
        "movies = [\"KGF\",\"Chhava\",\"Bahubali\",\"Saiyar\",\"RRR\",\"Kalki\",\"kannadakkagi ondannu otti\"]\n",
        "for movie in movies :\n",
        "  if movie == \"RRR\" :\n",
        "    pass\n",
        "  print(movie)"
      ],
      "metadata": {
        "colab": {
          "base_uri": "https://localhost:8080/"
        },
        "id": "N6dZml-A2F7Y",
        "outputId": "40995511-a681-4fc0-cb53-281d8b8f620d"
      },
      "execution_count": null,
      "outputs": [
        {
          "output_type": "stream",
          "name": "stdout",
          "text": [
            "KGF\n",
            "Chhava\n",
            "Bahubali\n",
            "Saiyar\n",
            "RRR\n",
            "Kalki\n",
            "kannadakkagi ondannu otti\n"
          ]
        }
      ]
    },
    {
      "cell_type": "code",
      "source": [
        "things = {\"mobile\",\"laptop\",\"moniter\",\"tab\",\"book\",\"pen\",\"mouse\",\"keyboard\",\"paper\"}\n",
        "for thing in things :\n",
        "  if thing == \"mobile\" :\n",
        "    continue\n",
        "  print(thing)"
      ],
      "metadata": {
        "colab": {
          "base_uri": "https://localhost:8080/"
        },
        "id": "W6oOGvBO2OsA",
        "outputId": "ad1a3212-1a61-45de-cf98-95ed22d4084a"
      },
      "execution_count": null,
      "outputs": [
        {
          "output_type": "stream",
          "name": "stdout",
          "text": [
            "paper\n",
            "book\n",
            "keyboard\n",
            "moniter\n",
            "tab\n",
            "pen\n",
            "mouse\n",
            "laptop\n"
          ]
        }
      ]
    },
    {
      "cell_type": "code",
      "source": [
        "for i in range (5):\n",
        "  for j in range (5):\n",
        "    print(\"*\",end=\" \")\n",
        " print()\n"
      ],
      "metadata": {
        "colab": {
          "base_uri": "https://localhost:8080/",
          "height": 106
        },
        "id": "bLKT8Yxv8SI8",
        "outputId": "e54d5caf-b95b-4bda-ac40-22924bd6887a"
      },
      "execution_count": 114,
      "outputs": [
        {
          "output_type": "error",
          "ename": "IndentationError",
          "evalue": "unindent does not match any outer indentation level (<tokenize>, line 4)",
          "traceback": [
            "\u001b[0;36m  File \u001b[0;32m\"<tokenize>\"\u001b[0;36m, line \u001b[0;32m4\u001b[0m\n\u001b[0;31m    print()\u001b[0m\n\u001b[0m    ^\u001b[0m\n\u001b[0;31mIndentationError\u001b[0m\u001b[0;31m:\u001b[0m unindent does not match any outer indentation level\n"
          ]
        }
      ]
    },
    {
      "cell_type": "code",
      "source": [
        "def example (roll_number,name,section,department,college):\n",
        "   print(f\"my name is{name},i'm studying{department},in{college},college. My roll_number is{roll_number} and sectionis{section}\")\n",
        "example(101,\"Shreeshail\",'A',\"BCA\",\"KLE\")\n",
        "\n",
        "\n",
        "\n"
      ],
      "metadata": {
        "colab": {
          "base_uri": "https://localhost:8080/"
        },
        "id": "_ctZht7jreku",
        "outputId": "d2932b48-86b6-4a18-a407-53fc1bca3a10"
      },
      "execution_count": 108,
      "outputs": [
        {
          "output_type": "stream",
          "name": "stdout",
          "text": [
            "my name isShreeshail,i'm studyingBCA,inKLE,college. My roll_number is101 and sectionisA\n"
          ]
        }
      ]
    },
    {
      "cell_type": "code",
      "source": [
        "def fun(name,game,time):\n",
        "   print(f\"I'm{name};i'm playing{game} at {time} time\")\n",
        "fun(time = \"Evening\",name = \"Shreeshail\",game = \"Cricket\")"
      ],
      "metadata": {
        "colab": {
          "base_uri": "https://localhost:8080/"
        },
        "id": "zR0XYAKGru07",
        "outputId": "6c72732b-ba74-4b26-97a9-c2ae4b8de722"
      },
      "execution_count": 119,
      "outputs": [
        {
          "output_type": "stream",
          "name": "stdout",
          "text": [
            "I'mShreeshail;i'm playingCricket at Evening time\n"
          ]
        }
      ]
    },
    {
      "cell_type": "code",
      "source": [
        "def laptop(name = \"lenovo\"):\n",
        "    print(\"My laptop name is :\",name)\n",
        "Laptop(\"Dell\")\n",
        "Laptop(\"HP\")\n",
        "Laptop()\n",
        "Laptop(\"ASUS\")\n",
        "\n"
      ],
      "metadata": {
        "colab": {
          "base_uri": "https://localhost:8080/",
          "height": 211
        },
        "id": "Ya4VZXrTu8uh",
        "outputId": "729891d2-792c-4363-820e-50627461efa5"
      },
      "execution_count": 125,
      "outputs": [
        {
          "output_type": "error",
          "ename": "NameError",
          "evalue": "name 'Laptop' is not defined",
          "traceback": [
            "\u001b[0;31m---------------------------------------------------------------------------\u001b[0m",
            "\u001b[0;31mNameError\u001b[0m                                 Traceback (most recent call last)",
            "\u001b[0;32m/tmp/ipython-input-72452047.py\u001b[0m in \u001b[0;36m<cell line: 0>\u001b[0;34m()\u001b[0m\n\u001b[1;32m      1\u001b[0m \u001b[0;32mdef\u001b[0m \u001b[0mlaptop\u001b[0m\u001b[0;34m(\u001b[0m\u001b[0mname\u001b[0m \u001b[0;34m=\u001b[0m \u001b[0;34m\"lenovo\"\u001b[0m\u001b[0;34m)\u001b[0m\u001b[0;34m:\u001b[0m\u001b[0;34m\u001b[0m\u001b[0;34m\u001b[0m\u001b[0m\n\u001b[1;32m      2\u001b[0m     \u001b[0mprint\u001b[0m\u001b[0;34m(\u001b[0m\u001b[0;34m\"My laptop name is :\"\u001b[0m\u001b[0;34m,\u001b[0m\u001b[0mname\u001b[0m\u001b[0;34m)\u001b[0m\u001b[0;34m\u001b[0m\u001b[0;34m\u001b[0m\u001b[0m\n\u001b[0;32m----> 3\u001b[0;31m \u001b[0mLaptop\u001b[0m\u001b[0;34m(\u001b[0m\u001b[0;34m\"Dell\"\u001b[0m\u001b[0;34m)\u001b[0m\u001b[0;34m\u001b[0m\u001b[0;34m\u001b[0m\u001b[0m\n\u001b[0m\u001b[1;32m      4\u001b[0m \u001b[0mLaptop\u001b[0m\u001b[0;34m(\u001b[0m\u001b[0;34m\"HP\"\u001b[0m\u001b[0;34m)\u001b[0m\u001b[0;34m\u001b[0m\u001b[0;34m\u001b[0m\u001b[0m\n\u001b[1;32m      5\u001b[0m \u001b[0mLaptop\u001b[0m\u001b[0;34m(\u001b[0m\u001b[0;34m)\u001b[0m\u001b[0;34m\u001b[0m\u001b[0;34m\u001b[0m\u001b[0m\n",
            "\u001b[0;31mNameError\u001b[0m: name 'Laptop' is not defined"
          ]
        }
      ]
    }
  ]
}