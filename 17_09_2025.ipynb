{
  "nbformat": 4,
  "nbformat_minor": 0,
  "metadata": {
    "colab": {
      "provenance": []
    },
    "kernelspec": {
      "name": "python3",
      "display_name": "Python 3"
    },
    "language_info": {
      "name": "python"
    }
  },
  "cells": [
    {
      "cell_type": "code",
      "execution_count": null,
      "metadata": {
        "colab": {
          "base_uri": "https://localhost:8080/"
        },
        "id": "LETrdI_R8Hm9",
        "outputId": "d7b7e3cd-b4ee-43c8-a92f-884bb3bafc1c"
      },
      "outputs": [
        {
          "output_type": "stream",
          "name": "stdout",
          "text": [
            "b is big\n"
          ]
        }
      ],
      "source": [
        "a,b,c = 25,35,15\n",
        "if a > b :\n",
        "  if a > c :\n",
        "     print(\"a is big\")\n",
        "  else :\n",
        "     print(\"c is big\")\n",
        "else :\n",
        "    if b > c :\n",
        "     print(\"b is big\")\n",
        "    else :\n",
        "     print(\"c is big\")\n",
        "\n"
      ]
    },
    {
      "cell_type": "code",
      "source": [
        "a,b,c = 25,35,15\n",
        "if a < b :\n",
        "  if a < c :\n",
        "     print(\"a is small\")\n",
        "  else :\n",
        "     print(\"c is small\")\n",
        "else :\n",
        "    if b < c :\n",
        "     print(\"b is small\")\n",
        "    else :\n",
        "     print(\"c is small\")\n",
        "\n"
      ],
      "metadata": {
        "colab": {
          "base_uri": "https://localhost:8080/"
        },
        "id": "pZRp2-lxJvHX",
        "outputId": "821f718b-db17-477c-bd39-2b7e75cff245"
      },
      "execution_count": null,
      "outputs": [
        {
          "output_type": "stream",
          "name": "stdout",
          "text": [
            "c is small\n"
          ]
        }
      ]
    },
    {
      "cell_type": "code",
      "source": [
        "num = int(input(\"enter the num value :\"))\n",
        "if num > 0 :\n",
        "  if num == 0 :\n",
        "    print(\"zero value\")\n",
        "  else:\n",
        "    print(\"positive number\")\n",
        "else:\n",
        "    print(\"negative number\")\n"
      ],
      "metadata": {
        "colab": {
          "base_uri": "https://localhost:8080/"
        },
        "id": "jDOHuxA3KEti",
        "outputId": "f22868bc-a47b-4b10-9173-82dbaa3faa04"
      },
      "execution_count": null,
      "outputs": [
        {
          "output_type": "stream",
          "name": "stdout",
          "text": [
            "enter the num value :0\n",
            "negative number\n"
          ]
        }
      ]
    },
    {
      "cell_type": "code",
      "source": [
        "num = int(input(\"enter the num value :\"))\n",
        "if num >= 0 :\n",
        "  if num == 0 :\n",
        "    print(\"zero value\")\n",
        "  else:\n",
        "    print(\"positive number\")\n",
        "else:\n",
        "    print(\"negative number\")\n"
      ],
      "metadata": {
        "colab": {
          "base_uri": "https://localhost:8080/"
        },
        "id": "JJbCxar7LVn5",
        "outputId": "9f16cbec-54fe-4ef3-cd8f-792f6b216898"
      },
      "execution_count": null,
      "outputs": [
        {
          "output_type": "stream",
          "name": "stdout",
          "text": [
            "enter the num value :-5\n",
            "negative number\n"
          ]
        }
      ]
    },
    {
      "cell_type": "code",
      "source": [
        "# write a programe arithmatic operator using switch statement\n",
        "x,y = 10,20\n",
        "option = (input(\"enter your choic option :\"))\n",
        "match  option:\n",
        "    case'+' :\n",
        "      print(\"sum of value\", x + y)\n",
        "    case'-' :\n",
        "      print (\"sub of value\", x - y)\n",
        "    case'*' :\n",
        "      print(\"mul of value\", x * y)\n",
        "    case'/' :\n",
        "      print(\"div of value\", x / y)\n",
        "    case'%' :\n",
        "      print(\"modulus of value\", x % y)\n",
        "    case '!=' :\n",
        "      print(\"invalid operater\")\n",
        "    case '_' :\n",
        "      print(\"not equal\", x !=y)"
      ],
      "metadata": {
        "colab": {
          "base_uri": "https://localhost:8080/"
        },
        "id": "x04B9MHTL_1A",
        "outputId": "910772c6-835a-49f0-cae8-7ac0d674c26c"
      },
      "execution_count": null,
      "outputs": [
        {
          "output_type": "stream",
          "name": "stdout",
          "text": [
            "enter your choic option :/\n",
            "div of value 0.5\n"
          ]
        }
      ]
    },
    {
      "cell_type": "code",
      "source": [
        "day = int(input(\"enter a day\"))\n",
        "match day:\n",
        "  case 1 :\n",
        "    print(\"monday\")\n",
        "  case 2 :\n",
        "    print(\"tuesday\")\n",
        "  case 3 :\n",
        "    print(\"wednsday\")\n",
        "  case 4 :\n",
        "    print(\"thursday\")\n",
        "  case 5 :\n",
        "    print(\"friday\")\n",
        "  case 6 :\n",
        "    print(\"saturday\")\n",
        "  case 7 :\n",
        "    print(\"sunday\")\n",
        "  case 8 :\n",
        "    print(\"holiday\")"
      ],
      "metadata": {
        "colab": {
          "base_uri": "https://localhost:8080/"
        },
        "id": "DTNxyfaAQWtm",
        "outputId": "d4599411-5b89-47d3-b3fd-91560f625860"
      },
      "execution_count": null,
      "outputs": [
        {
          "output_type": "stream",
          "name": "stdout",
          "text": [
            "enter a day8\n",
            "holiday\n"
          ]
        }
      ]
    },
    {
      "cell_type": "code",
      "source": [
        "month = int(input(\"enter a number\"))\n",
        "match month:\n",
        "  case 1 :\n",
        "    print(\"januaray\")\n",
        "  case 2 :\n",
        "    print(\"february\")\n",
        "  case 3 :\n",
        "    print(\"march\")\n",
        "  case 4 :\n",
        "    print(\"april\")\n",
        "  case 5 :\n",
        "    print(\"may\")\n",
        "  case 6 :\n",
        "    print(\"june\")\n",
        "  case 7 :\n",
        "    print(\"july\")\n",
        "  case 8 :\n",
        "    print(\"august\")\n",
        "  case 9 :\n",
        "    print(\"september\")\n",
        "  case 10 :\n",
        "    print(\"october\")\n",
        "  case 11 :\n",
        "    print(\"november\")\n",
        "  case 12 :\n",
        "    print(\"december\")\n",
        "  case _ :\n",
        "    print(\"invaild number\")"
      ],
      "metadata": {
        "colab": {
          "base_uri": "https://localhost:8080/"
        },
        "id": "JOKiXlPPWmwV",
        "outputId": "36911218-36eb-4d9d-eb1d-8dbff12512f6"
      },
      "execution_count": null,
      "outputs": [
        {
          "output_type": "stream",
          "name": "stdout",
          "text": [
            "enter a number6\n",
            "june\n"
          ]
        }
      ]
    },
    {
      "cell_type": "code",
      "source": [
        "num = 1\n",
        "while num <= 60 :\n",
        "     print(num,end=\" \")\n",
        "     num +=1\n"
      ],
      "metadata": {
        "colab": {
          "base_uri": "https://localhost:8080/"
        },
        "id": "XxDIec3WY4gd",
        "outputId": "3215b508-e1e4-4d29-f138-3008b8619e84"
      },
      "execution_count": null,
      "outputs": [
        {
          "output_type": "stream",
          "name": "stdout",
          "text": [
            "1 2 3 4 5 6 7 8 9 10 11 12 13 14 15 16 17 18 19 20 21 22 23 24 25 26 27 28 29 30 31 32 33 34 35 36 37 38 39 40 41 42 43 44 45 46 47 48 49 50 51 52 53 54 55 56 57 58 59 60 "
          ]
        }
      ]
    },
    {
      "cell_type": "code",
      "source": [
        "i = 1\n",
        "add = 0\n",
        "while i <= 10 :\n",
        "  add = add +i\n",
        "  i = i + 1\n",
        "print(\"sum of n natural number is :\",add)"
      ],
      "metadata": {
        "colab": {
          "base_uri": "https://localhost:8080/"
        },
        "id": "kzQZktIdb1cL",
        "outputId": "1f83bcbc-90f5-48fc-e3db-62a6a3853f99"
      },
      "execution_count": null,
      "outputs": [
        {
          "output_type": "stream",
          "name": "stdout",
          "text": [
            "sum of n natural number is : 55\n"
          ]
        }
      ]
    },
    {
      "cell_type": "code",
      "source": [
        "num = 5\n",
        "i = 1\n",
        "while i <= 10 :\n",
        "    print(\"5 *\",i,\"=\",num*i)\n",
        "    i = i + 1"
      ],
      "metadata": {
        "colab": {
          "base_uri": "https://localhost:8080/"
        },
        "id": "bstI0yxZfCS2",
        "outputId": "046a1146-16ef-49bf-d7c1-a7b4c04200c9"
      },
      "execution_count": null,
      "outputs": [
        {
          "output_type": "stream",
          "name": "stdout",
          "text": [
            "5 * 1 = 5\n",
            "5 * 2 = 10\n",
            "5 * 3 = 15\n",
            "5 * 4 = 20\n",
            "5 * 5 = 25\n",
            "5 * 6 = 30\n",
            "5 * 7 = 35\n",
            "5 * 8 = 40\n",
            "5 * 9 = 45\n",
            "5 * 10 = 50\n"
          ]
        }
      ]
    },
    {
      "cell_type": "code",
      "source": [
        "num = 5\n",
        "i = 1\n",
        "while i <= 10 :\n",
        "    print(\"5 *\",i,\"=\",num*i)\n",
        "    i = i + 1"
      ],
      "metadata": {
        "colab": {
          "base_uri": "https://localhost:8080/"
        },
        "id": "xjFeWVZAg4wq",
        "outputId": "69215477-fbc0-48a2-a951-e3af4db1a8be"
      },
      "execution_count": null,
      "outputs": [
        {
          "output_type": "stream",
          "name": "stdout",
          "text": [
            "armstrong number\n"
          ]
        }
      ]
    },
    {
      "cell_type": "code",
      "source": [
        "num = 12345\n",
        "rem = 0\n",
        "sum = 0\n",
        "temp = num\n",
        "while num > 0 :\n",
        "   rem = num % 10\n",
        "   rev = rev * 10 + rem\n",
        "   num = num //10\n",
        "print(\"reverse number is :\", rev)\n"
      ],
      "metadata": {
        "colab": {
          "base_uri": "https://localhost:8080/",
          "height": 211
        },
        "id": "9AnsHVOtqKdT",
        "outputId": "c4c8de0a-93ef-4a53-cea2-44b386dbe64a"
      },
      "execution_count": null,
      "outputs": [
        {
          "output_type": "error",
          "ename": "NameError",
          "evalue": "name 'rev' is not defined",
          "traceback": [
            "\u001b[0;31m---------------------------------------------------------------------------\u001b[0m",
            "\u001b[0;31mNameError\u001b[0m                                 Traceback (most recent call last)",
            "\u001b[0;32m/tmp/ipython-input-1965393730.py\u001b[0m in \u001b[0;36m<cell line: 0>\u001b[0;34m()\u001b[0m\n\u001b[1;32m      5\u001b[0m \u001b[0;32mwhile\u001b[0m \u001b[0mnum\u001b[0m \u001b[0;34m>\u001b[0m \u001b[0;36m0\u001b[0m \u001b[0;34m:\u001b[0m\u001b[0;34m\u001b[0m\u001b[0;34m\u001b[0m\u001b[0m\n\u001b[1;32m      6\u001b[0m    \u001b[0mrem\u001b[0m \u001b[0;34m=\u001b[0m \u001b[0mnum\u001b[0m \u001b[0;34m%\u001b[0m \u001b[0;36m10\u001b[0m\u001b[0;34m\u001b[0m\u001b[0;34m\u001b[0m\u001b[0m\n\u001b[0;32m----> 7\u001b[0;31m    \u001b[0mrev\u001b[0m \u001b[0;34m=\u001b[0m \u001b[0mrev\u001b[0m \u001b[0;34m*\u001b[0m \u001b[0;36m10\u001b[0m \u001b[0;34m+\u001b[0m \u001b[0mrem\u001b[0m\u001b[0;34m\u001b[0m\u001b[0;34m\u001b[0m\u001b[0m\n\u001b[0m\u001b[1;32m      8\u001b[0m    \u001b[0mnum\u001b[0m \u001b[0;34m=\u001b[0m \u001b[0mnum\u001b[0m \u001b[0;34m//\u001b[0m\u001b[0;36m10\u001b[0m\u001b[0;34m\u001b[0m\u001b[0;34m\u001b[0m\u001b[0m\n\u001b[1;32m      9\u001b[0m \u001b[0mprint\u001b[0m\u001b[0;34m(\u001b[0m\u001b[0;34m\"reverse number is :\"\u001b[0m\u001b[0;34m,\u001b[0m \u001b[0mrev\u001b[0m\u001b[0;34m)\u001b[0m\u001b[0;34m\u001b[0m\u001b[0;34m\u001b[0m\u001b[0m\n",
            "\u001b[0;31mNameError\u001b[0m: name 'rev' is not defined"
          ]
        }
      ]
    },
    {
      "cell_type": "code",
      "source": [
        "#print even number between 1 to 100\n",
        "i = 2\n",
        "while i <=100 :\n",
        "    print(i, end = \" \")\n",
        "    i+=2"
      ],
      "metadata": {
        "colab": {
          "base_uri": "https://localhost:8080/"
        },
        "id": "wY7q4tYGuDoy",
        "outputId": "0220428e-a9a5-42fb-fb88-d7375c7ba674"
      },
      "execution_count": null,
      "outputs": [
        {
          "output_type": "stream",
          "name": "stdout",
          "text": [
            "2 4 6 8 10 12 14 16 18 20 22 24 26 28 30 32 34 36 38 40 42 44 46 48 50 52 54 56 58 60 62 64 66 68 70 72 74 76 78 80 82 84 86 88 90 92 94 96 98 100 "
          ]
        }
      ]
    },
    {
      "cell_type": "code",
      "source": [
        "#print odd number between 1 to 100\n",
        "i = 1\n",
        "while i <=100 :\n",
        "    print(i, end = \" \")\n",
        "    i+=2"
      ],
      "metadata": {
        "colab": {
          "base_uri": "https://localhost:8080/"
        },
        "id": "RWoKO4D1ur3W",
        "outputId": "7683ae2d-1630-49e3-bde0-370639e4270b"
      },
      "execution_count": null,
      "outputs": [
        {
          "output_type": "stream",
          "name": "stdout",
          "text": [
            "1 3 5 7 9 11 13 15 17 19 21 23 25 27 29 31 33 35 37 39 41 43 45 47 49 51 53 55 57 59 61 63 65 67 69 71 73 75 77 79 81 83 85 87 89 91 93 95 97 99 "
          ]
        }
      ]
    },
    {
      "cell_type": "code",
      "source": [
        "num, a, b = 10, 0, 1\n",
        "i = 0\n",
        "while i <= num :\n",
        "    print(a, end = \" \")\n",
        "    a, b = b, a+b\n",
        "    i+=1"
      ],
      "metadata": {
        "colab": {
          "base_uri": "https://localhost:8080/"
        },
        "id": "kPxpDNX8vFTp",
        "outputId": "88c206a7-4c9e-4a18-b40f-e68908acd85e"
      },
      "execution_count": null,
      "outputs": [
        {
          "output_type": "stream",
          "name": "stdout",
          "text": [
            "0 1 1 2 3 5 8 13 21 34 55 "
          ]
        }
      ]
    },
    {
      "cell_type": "code",
      "source": [
        "num  = int(input(\"enter a  number value\"))\n",
        "count = 0\n",
        "i = 1\n",
        "while i<= num :\n",
        "    if num % i == 0 :\n",
        "         count+=1\n",
        "         i+=1\n",
        "if count == 2 :\n",
        "    print(\"prime number\")\n",
        "else:\n",
        "    print(\"not prime number\")"
      ],
      "metadata": {
        "id": "0MgreLYVwGsG"
      },
      "execution_count": null,
      "outputs": []
    },
    {
      "cell_type": "code",
      "source": [
        " i = 10\n",
        "while i <=1280 :\n",
        "  print(i,end=\" \")\n",
        "  i*=2"
      ],
      "metadata": {
        "id": "dgnnsEPYyrA9"
      },
      "execution_count": null,
      "outputs": []
    },
    {
      "cell_type": "code",
      "source": [
        "colour = ['blue','red','pink',;black']"
      ],
      "metadata": {
        "id": "Urr4nlutIaFV"
      },
      "execution_count": null,
      "outputs": []
    },
    {
      "cell_type": "code",
      "source": [
        "for i in range(10) :\n",
        "  print(i)"
      ],
      "metadata": {
        "id": "Nd0kY2cdT_mU"
      },
      "execution_count": null,
      "outputs": []
    }
  ]
}