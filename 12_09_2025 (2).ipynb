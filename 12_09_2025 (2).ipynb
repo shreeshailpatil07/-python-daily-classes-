{
  "nbformat": 4,
  "nbformat_minor": 0,
  "metadata": {
    "colab": {
      "provenance": []
    },
    "kernelspec": {
      "name": "python3",
      "display_name": "Python 3"
    },
    "language_info": {
      "name": "python"
    }
  },
  "cells": [
    {
      "cell_type": "code",
      "execution_count": null,
      "metadata": {
        "colab": {
          "base_uri": "https://localhost:8080/"
        },
        "id": "cqJSuDis7kSp",
        "outputId": "a4f18054-5ddf-46aa-edd0-ac17dfd61b84"
      },
      "outputs": [
        {
          "output_type": "stream",
          "name": "stdout",
          "text": [
            "Hello world\n"
          ]
        }
      ],
      "source": [
        "print(\"Hello world\")"
      ]
    },
    {
      "cell_type": "code",
      "source": [
        "print(\"Good morning\")"
      ],
      "metadata": {
        "colab": {
          "base_uri": "https://localhost:8080/"
        },
        "id": "ocUZQ4Xz76H7",
        "outputId": "7f90bf2c-047d-4353-a1b4-d8508ec5ddfd"
      },
      "execution_count": null,
      "outputs": [
        {
          "output_type": "stream",
          "name": "stdout",
          "text": [
            "Good morning\n"
          ]
        }
      ]
    },
    {
      "cell_type": "code",
      "source": [
        "print (\"KLE SOCIETY'S BK BBA AND BCA COLLEGE CHIKODI\")"
      ],
      "metadata": {
        "colab": {
          "base_uri": "https://localhost:8080/"
        },
        "id": "iNriaE1K8Z-y",
        "outputId": "4a7df4cf-bd20-4c3d-b53d-7d447f93ca70"
      },
      "execution_count": null,
      "outputs": [
        {
          "output_type": "stream",
          "name": "stdout",
          "text": [
            "KLE SOCIETY'S BK BBA AND BCA COLLEGE CHIKODI\n"
          ]
        }
      ]
    },
    {
      "cell_type": "code",
      "source": [
        "print(\"kle society's bl college chikodi\")"
      ],
      "metadata": {
        "colab": {
          "base_uri": "https://localhost:8080/"
        },
        "id": "tc_usjWJ8wZy",
        "outputId": "37978519-df58-4a8c-c292-db61dc9d9378"
      },
      "execution_count": null,
      "outputs": [
        {
          "output_type": "stream",
          "name": "stdout",
          "text": [
            "kle society's bl college chikodi\n"
          ]
        }
      ]
    },
    {
      "cell_type": "code",
      "source": [
        "print (\"Shreeshail\")"
      ],
      "metadata": {
        "colab": {
          "base_uri": "https://localhost:8080/"
        },
        "id": "3j3yBRrJ9eD8",
        "outputId": "8bac5ec9-24c4-471f-df58-3895b9466f9d"
      },
      "execution_count": null,
      "outputs": [
        {
          "output_type": "stream",
          "name": "stdout",
          "text": [
            "Shreeshail\n"
          ]
        }
      ]
    },
    {
      "cell_type": "code",
      "source": [
        "print (5+5)"
      ],
      "metadata": {
        "colab": {
          "base_uri": "https://localhost:8080/"
        },
        "id": "f37tLZ3l91P6",
        "outputId": "5360421d-f2c1-4861-a939-19dbb3d72749"
      },
      "execution_count": null,
      "outputs": [
        {
          "output_type": "stream",
          "name": "stdout",
          "text": [
            "10\n"
          ]
        }
      ]
    },
    {
      "cell_type": "code",
      "source": [
        "a=10\n",
        "print(a)"
      ],
      "metadata": {
        "colab": {
          "base_uri": "https://localhost:8080/"
        },
        "id": "6x5qwPyKYEO_",
        "outputId": "374793f5-9e49-4d19-f088-5c5a2b7092ea"
      },
      "execution_count": null,
      "outputs": [
        {
          "output_type": "stream",
          "name": "stdout",
          "text": [
            "10\n"
          ]
        }
      ]
    },
    {
      "cell_type": "code",
      "source": [
        "print(\"Hello world\"*3)"
      ],
      "metadata": {
        "colab": {
          "base_uri": "https://localhost:8080/"
        },
        "id": "UumgTSFqYvwj",
        "outputId": "5e16fcd2-36bf-4f44-a210-bf255faf1973"
      },
      "execution_count": null,
      "outputs": [
        {
          "output_type": "stream",
          "name": "stdout",
          "text": [
            "Hello worldHello worldHello world\n"
          ]
        }
      ]
    },
    {
      "cell_type": "code",
      "source": [
        "print(100/3)"
      ],
      "metadata": {
        "colab": {
          "base_uri": "https://localhost:8080/"
        },
        "id": "ouQ82purZVQ4",
        "outputId": "faf74f25-91c5-43d5-c112-e6e30961e99a"
      },
      "execution_count": null,
      "outputs": [
        {
          "output_type": "stream",
          "name": "stdout",
          "text": [
            "33.333333333333336\n"
          ]
        }
      ]
    },
    {
      "cell_type": "code",
      "source": [
        "print(\"python programming language \\n\" *5)"
      ],
      "metadata": {
        "colab": {
          "base_uri": "https://localhost:8080/"
        },
        "id": "l1Gh_Cx5Zve6",
        "outputId": "e37e8ee9-8821-4a64-e05e-1a40031f2ac3"
      },
      "execution_count": null,
      "outputs": [
        {
          "output_type": "stream",
          "name": "stdout",
          "text": [
            "python programming language \n",
            "python programming language \n",
            "python programming language \n",
            "python programming language \n",
            "python programming language \n",
            "\n"
          ]
        }
      ]
    },
    {
      "cell_type": "code",
      "source": [
        "print(\"my name is shreeshail i am from kerur i am completed my sslc in kle school kerur and i am completetd my puc bk college chikkodi, \\n i am curentley leraning  bca in bk college chikkodi\")"
      ],
      "metadata": {
        "colab": {
          "base_uri": "https://localhost:8080/"
        },
        "id": "S0VjBuZ1aVno",
        "outputId": "dee812e3-3795-40ea-8d91-8db871eaf85d"
      },
      "execution_count": null,
      "outputs": [
        {
          "output_type": "stream",
          "name": "stdout",
          "text": [
            "my name is shreeshail i am from kerur i am completed my sslc in kle school kerur and i am completetd my puc bk college chikkodi, \n",
            " i am curentley leraning  bca in bk college chikkodi\n"
          ]
        }
      ]
    },
    {
      "cell_type": "code",
      "source": [
        "print(\"Hello\" + \"world\")"
      ],
      "metadata": {
        "colab": {
          "base_uri": "https://localhost:8080/"
        },
        "id": "KT8VRWiycF-n",
        "outputId": "929180ff-e8cb-43ba-9b98-e49dca2c16eb"
      },
      "execution_count": null,
      "outputs": [
        {
          "output_type": "stream",
          "name": "stdout",
          "text": [
            "Helloworld\n"
          ]
        }
      ]
    },
    {
      "cell_type": "code",
      "source": [
        "print(\"good morning \\n\" * 10 )"
      ],
      "metadata": {
        "colab": {
          "base_uri": "https://localhost:8080/"
        },
        "id": "LN_m8UkGdC8A",
        "outputId": "21ed9cdc-6b82-4d19-95a1-aa31f8ee9c41"
      },
      "execution_count": null,
      "outputs": [
        {
          "output_type": "stream",
          "name": "stdout",
          "text": [
            "good morning \n",
            "good morning \n",
            "good morning \n",
            "good morning \n",
            "good morning \n",
            "good morning \n",
            "good morning \n",
            "good morning \n",
            "good morning \n",
            "good morning \n",
            "\n"
          ]
        }
      ]
    },
    {
      "cell_type": "code",
      "source": [
        "print(\"kan=30\\n eng=23\\n cp=30\\n ic=17\\n dbms=20\\n account=28\\n\")"
      ],
      "metadata": {
        "colab": {
          "base_uri": "https://localhost:8080/"
        },
        "id": "Wp3UZV1GejlA",
        "outputId": "cd28c2d4-08f1-4c04-8a92-ba2dc90991cd"
      },
      "execution_count": null,
      "outputs": [
        {
          "output_type": "stream",
          "name": "stdout",
          "text": [
            "kan=30\n",
            " eng=23\n",
            " cp=30\n",
            " ic=17\n",
            " dbms=20\n",
            " account=28\n",
            "\n"
          ]
        }
      ]
    },
    {
      "cell_type": "code",
      "source": [
        "\n",
        "x=10\n",
        "name='john'\n",
        "print(x,name)"
      ],
      "metadata": {
        "colab": {
          "base_uri": "https://localhost:8080/"
        },
        "id": "CDJaJqEVhUZk",
        "outputId": "6b2036f2-722b-441c-da8b-bda83342ee6a"
      },
      "execution_count": 26,
      "outputs": [
        {
          "output_type": "stream",
          "name": "stdout",
          "text": [
            "10 john\n"
          ]
        }
      ]
    },
    {
      "cell_type": "code",
      "source": [
        "_N_A_M_E=\"COMPUTER\"\n",
        "print(_N_A_M_E)"
      ],
      "metadata": {
        "colab": {
          "base_uri": "https://localhost:8080/"
        },
        "id": "NctWBoscmIvQ",
        "outputId": "955f9dba-2b70-4b30-91d6-4bdc0c06c27a"
      },
      "execution_count": 30,
      "outputs": [
        {
          "output_type": "stream",
          "name": "stdout",
          "text": [
            "COMPUTER\n"
          ]
        }
      ]
    },
    {
      "cell_type": "code",
      "source": [
        "AGE=25\n",
        "WEIGHT=60\n",
        "print (AGE, WEIGHT)"
      ],
      "metadata": {
        "colab": {
          "base_uri": "https://localhost:8080/"
        },
        "id": "L1fpMRqUnJ-T",
        "outputId": "02847953-ee47-4c15-d7a7-364cac606b8d"
      },
      "execution_count": 37,
      "outputs": [
        {
          "output_type": "stream",
          "name": "stdout",
          "text": [
            "25 60\n"
          ]
        }
      ]
    },
    {
      "cell_type": "code",
      "source": [
        "NA_12_ME=\"CHIKKODI\"\n",
        "print(NA_12_ME)"
      ],
      "metadata": {
        "colab": {
          "base_uri": "https://localhost:8080/"
        },
        "id": "tbtk2nGeoRL6",
        "outputId": "02c6206f-0c16-4b57-840d-4e2a4d2b3408"
      },
      "execution_count": 38,
      "outputs": [
        {
          "output_type": "stream",
          "name": "stdout",
          "text": [
            "CHIKKODI\n"
          ]
        }
      ]
    },
    {
      "cell_type": "code",
      "source": [
        "name=\"college\"\n",
        "per=67.34\n",
        "print(name,per)"
      ],
      "metadata": {
        "colab": {
          "base_uri": "https://localhost:8080/"
        },
        "id": "heuFfX1Cow5R",
        "outputId": "87a292a0-dc5b-445b-986e-e1a139617f09"
      },
      "execution_count": 39,
      "outputs": [
        {
          "output_type": "stream",
          "name": "stdout",
          "text": [
            "college 67.34\n"
          ]
        }
      ]
    },
    {
      "cell_type": "code",
      "source": [
        "name=\"shreeshail\"\n",
        "college=\"bkc college\"\n",
        "print(\"my name is\" ,name, \"i'm studing in\" , college)"
      ],
      "metadata": {
        "colab": {
          "base_uri": "https://localhost:8080/"
        },
        "id": "zML7If8ipDU5",
        "outputId": "80deb5ba-a64c-4a6b-9b3c-39c77ef87f2a"
      },
      "execution_count": 48,
      "outputs": [
        {
          "output_type": "stream",
          "name": "stdout",
          "text": [
            "my name is shreeshail i'm studing in bkc college\n"
          ]
        }
      ]
    },
    {
      "cell_type": "code",
      "source": [
        "name=\"shreeshail\"\n",
        "college=\"bk college chikkodi\"\n",
        "year=2025\n",
        "percentage=\"68%\"\n",
        "print(\"my name is\",name,\"i am completed my puc in\",college,year, \"i got percentage is\",percentage)"
      ],
      "metadata": {
        "colab": {
          "base_uri": "https://localhost:8080/"
        },
        "id": "rO42YWUosf1-",
        "outputId": "7e9d35e3-df5b-45f3-9e6a-703faafe9755"
      },
      "execution_count": 65,
      "outputs": [
        {
          "output_type": "stream",
          "name": "stdout",
          "text": [
            "my name is shreeshail i am completed my puc in bk college chikkodi 2025 i got percentage is 68%\n"
          ]
        }
      ]
    },
    {
      "cell_type": "code",
      "source": [
        "text=\"Good morning\"\n",
        "address=\"I'm from chikodi\"\n",
        "print(\"hello\",text,\",how are you,i'm fine, where are you from\",address,\"so nice\")\n"
      ],
      "metadata": {
        "colab": {
          "base_uri": "https://localhost:8080/"
        },
        "id": "RfJDuT8WsbKx",
        "outputId": "8c5474a9-3ffd-4edf-b0b8-235ccc4a436a"
      },
      "execution_count": 70,
      "outputs": [
        {
          "output_type": "stream",
          "name": "stdout",
          "text": [
            "hello Good morning ,how are you,i'm fine, where are you from I'm from chikodi so nice\n"
          ]
        }
      ]
    }
  ]
}