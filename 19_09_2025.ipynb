{
  "nbformat": 4,
  "nbformat_minor": 0,
  "metadata": {
    "colab": {
      "provenance": []
    },
    "kernelspec": {
      "name": "python3",
      "display_name": "Python 3"
    },
    "language_info": {
      "name": "python"
    }
  },
  "cells": [
    {
      "cell_type": "code",
      "execution_count": 2,
      "metadata": {
        "colab": {
          "base_uri": "https://localhost:8080/"
        },
        "id": "DoO1dLagbH9q",
        "outputId": "6602a4b9-b35e-4331-828b-4fa7491a0c19"
      },
      "outputs": [
        {
          "output_type": "stream",
          "name": "stdout",
          "text": [
            "total value is : 15\n",
            "total value is : 18\n",
            "total value is : 90\n"
          ]
        }
      ],
      "source": [
        "#1)example sum of numbers using *args\n",
        "def add(*args):\n",
        "  total = 0\n",
        "  for num in args:\n",
        "    total+=num\n",
        "  print(\"total value is :\",total)\n",
        "add(10,5)\n",
        "add(5,4,9)\n",
        "add(10,46,14,20)"
      ]
    },
    {
      "cell_type": "code",
      "source": [
        "def details(**kwargs):\n",
        "  for key,value in kwargs.items():\n",
        "    print(f'my details is {key} and {value}')\n",
        "\n",
        "details(course=\"BCA\",section='c',college=\"BK college\")\n",
        "details(place=\"bengaluru\")\n",
        "details(roll_num = 201,T_SUBJECT=7)\n",
        "details(laptop=\"lenovo\",os = \"window\", year=2022, version=\"windows\")"
      ],
      "metadata": {
        "colab": {
          "base_uri": "https://localhost:8080/"
        },
        "id": "O-DMdo8EbREK",
        "outputId": "ca574b52-ea07-430e-bc48-dadc8da1fcd8"
      },
      "execution_count": 15,
      "outputs": [
        {
          "output_type": "stream",
          "name": "stdout",
          "text": [
            "my details is course and BCA\n",
            "my details is section and c\n",
            "my details is college and BK college\n",
            "my details is place and bengaluru\n",
            "my details is roll_num and 201\n",
            "my details is T_SUBJECT and 7\n",
            "my details is laptop and lenovo\n",
            "my details is os and window\n",
            "my details is year and 2022\n",
            "my details is version and windows\n"
          ]
        }
      ]
    },
    {
      "cell_type": "code",
      "source": [
        "def print_details(**kwargs):\n",
        "   for key,value in kwargs.items():\n",
        "    print(f\"{key}={value}\")\n",
        "\n",
        "print_details(name='Basavaraj',age=25,city='Bangalore')\n"
      ],
      "metadata": {
        "colab": {
          "base_uri": "https://localhost:8080/"
        },
        "id": "j03u059oeYMh",
        "outputId": "1091b223-01fd-46b9-db2c-3e26b98054a4"
      },
      "execution_count": 16,
      "outputs": [
        {
          "output_type": "stream",
          "name": "stdout",
          "text": [
            "name=Basavaraj\n",
            "age=25\n",
            "city=Bangalore\n"
          ]
        }
      ]
    },
    {
      "cell_type": "code",
      "source": [
        "#example of *args and **kwargs\n",
        "def show_value(*args,**kwargs):\n",
        "  print(\"positional arguments represented in tuple\",args)\n",
        "  print(\"key - words agruments represented in dict \",kwargs)\n",
        "show_value(1,2,3,4,name=\"shreeshail\")\n",
        "show_value(5,8,1,10,Class = \"BCA C section\",gender = \"male\")\n"
      ],
      "metadata": {
        "colab": {
          "base_uri": "https://localhost:8080/"
        },
        "id": "IbjmZsMvfDGJ",
        "outputId": "5b151b05-2e89-414e-fec5-a1ea1e4b3ff1"
      },
      "execution_count": 21,
      "outputs": [
        {
          "output_type": "stream",
          "name": "stdout",
          "text": [
            "positional arguments represented in tuple (1, 2, 3, 4)\n",
            "key - words agruments represented in dict  {'name': 'shreeshail'}\n",
            "positional arguments represented in tuple (5, 8, 1, 10)\n",
            "key - words agruments represented in dict  {'Class': 'BCA C section', 'gender': 'male'}\n"
          ]
        }
      ]
    },
    {
      "cell_type": "code",
      "source": [
        "fact = 1\n",
        "for i in range(1,6):\n",
        "  fact = fact * i\n",
        "  i = i + 1\n",
        "print(fact)"
      ],
      "metadata": {
        "colab": {
          "base_uri": "https://localhost:8080/"
        },
        "id": "dPmnQnSFkvrk",
        "outputId": "6af285f4-8b62-464e-87e5-5adb1a0d1481"
      },
      "execution_count": 24,
      "outputs": [
        {
          "output_type": "stream",
          "name": "stdout",
          "text": [
            "120\n"
          ]
        }
      ]
    },
    {
      "cell_type": "code",
      "source": [
        "fact = 1\n",
        "def  fact(num):\n",
        "  if num == 0 or num == 1:\n",
        "    return 1\n",
        "  else:\n",
        "      return num * fact(num-1)\n",
        "print( \"factorial number is :\",fact(5))"
      ],
      "metadata": {
        "colab": {
          "base_uri": "https://localhost:8080/"
        },
        "id": "tmbpcbwllm2x",
        "outputId": "d9d84ee7-c761-439e-8d35-dc68dd3b911d"
      },
      "execution_count": 37,
      "outputs": [
        {
          "output_type": "stream",
          "name": "stdout",
          "text": [
            "factorial number is : 120\n"
          ]
        }
      ]
    },
    {
      "cell_type": "code",
      "source": [
        "def sum(num):\n",
        "  if num == 0:\n",
        "    return num\n",
        "  else:\n",
        "     return num + sum(num-1)\n",
        "print(\"sum of n natural number is :\",sum(10))"
      ],
      "metadata": {
        "colab": {
          "base_uri": "https://localhost:8080/"
        },
        "id": "jZX9fFVXoxV3",
        "outputId": "e1390841-6e4d-47eb-9740-93eb269d099b"
      },
      "execution_count": 48,
      "outputs": [
        {
          "output_type": "stream",
          "name": "stdout",
          "text": [
            "sum of n natural number is : 55\n"
          ]
        }
      ]
    },
    {
      "cell_type": "code",
      "source": [
        "#fibonacci series / number using function recursion\n",
        "def fibo(num):\n",
        "  if num <= 1 :\n",
        "    return num\n",
        "  else :\n",
        "    return fibo(num-1) + fibo(num-2)\n",
        "for i in range(11):\n",
        "  print(fibo(i),end=\" \")"
      ],
      "metadata": {
        "colab": {
          "base_uri": "https://localhost:8080/"
        },
        "id": "zXmKiycKr7Yr",
        "outputId": "953a6823-6395-4f0f-ce51-764c5afbacee"
      },
      "execution_count": 55,
      "outputs": [
        {
          "output_type": "stream",
          "name": "stdout",
          "text": [
            "0 1 1 2 3 5 8 13 21 34 55 "
          ]
        }
      ]
    },
    {
      "cell_type": "code",
      "source": [
        "name = \"vasu\"\n",
        "print(name[:4])"
      ],
      "metadata": {
        "colab": {
          "base_uri": "https://localhost:8080/"
        },
        "id": "ygEQ-NjDuvJA",
        "outputId": "3a623432-5912-49a1-f0e6-cc8957059916"
      },
      "execution_count": 59,
      "outputs": [
        {
          "output_type": "stream",
          "name": "stdout",
          "text": [
            "vasu\n"
          ]
        }
      ]
    },
    {
      "cell_type": "code",
      "source": [
        "class Fruit:\n",
        "  colour=\"orange\"\n",
        "  price=250\n",
        "  taste=\"sweet\"\n",
        "  shape=\"circle\"\n",
        "  def juice(self):\n",
        "    print(\"good\")\n",
        "orange = Fruit()\n",
        "print(\"orange colour is\",orange.colour)\n"
      ],
      "metadata": {
        "colab": {
          "base_uri": "https://localhost:8080/"
        },
        "id": "7GdCmQIJ1qur",
        "outputId": "ae20cec8-17a3-4140-a66e-947d7bcda522"
      },
      "execution_count": 63,
      "outputs": [
        {
          "output_type": "stream",
          "name": "stdout",
          "text": [
            "orange colour is orange\n"
          ]
        }
      ]
    },
    {
      "cell_type": "code",
      "source": [
        "class Flower:\n",
        "    smell=\"Nice\"\n",
        "    petal=5\n",
        "    size=\"Medium\"\n",
        "    gender=\"male\"\n",
        "    Validiy = 1.5\n",
        "    def Decoration(self):\n",
        "        print(\"hello Good Morning\")\n",
        "    def Gift(self):\n",
        "        print(\"Good Afternoon\")\n",
        "    def Marriage(self):\n",
        "        print(\"Marriage\")\n",
        "    def Death(self):\n",
        "        print(\"This flower using for death time\")\n",
        "\n",
        "Obj = Flower()\n",
        "Obj.Marriage()\n",
        "print(Obj.gender)\n",
        "Obj.Decoration()\n"
      ],
      "metadata": {
        "colab": {
          "base_uri": "https://localhost:8080/"
        },
        "id": "XCHg-AjfC77R",
        "outputId": "f6ed2aea-c816-4422-b7fd-834df00ad40e"
      },
      "execution_count": 76,
      "outputs": [
        {
          "output_type": "stream",
          "name": "stdout",
          "text": [
            "Marriage\n",
            "male\n",
            "hello Good Morning\n"
          ]
        }
      ]
    },
    {
      "cell_type": "code",
      "source": [
        "class Fan :\n",
        "  colour = \"Black\"\n",
        "  Wings = 3\n",
        "  c_name = \"Bajaj\"\n",
        "  price = 1500\n",
        "  Warrenty = \"2 years\"\n",
        "  def start(self):\n",
        "      print(\"When click on button it'll start\")\n",
        "  def speed(self):\n",
        "      print(\"Based on condition it'll move fast\")\n",
        "  def stop(self):\n",
        "      print(\"When click on button it'll stop\")\n",
        "\n",
        "Obj = Fan()\n",
        "print(Obj.c_name+ \" \"+Obj.Warrenty)\n"
      ],
      "metadata": {
        "colab": {
          "base_uri": "https://localhost:8080/"
        },
        "id": "otz9kxqfDhMO",
        "outputId": "495220ee-4e7d-4f18-d1a2-2b577d5cb6bd"
      },
      "execution_count": 78,
      "outputs": [
        {
          "output_type": "stream",
          "name": "stdout",
          "text": [
            "Bajaj 2 years\n"
          ]
        }
      ]
    },
    {
      "cell_type": "code",
      "source": [
        "def fun(name):\n",
        "  print(\"my name is a \",name)\n",
        "fun(\"shreeshail\")"
      ],
      "metadata": {
        "colab": {
          "base_uri": "https://localhost:8080/"
        },
        "id": "0gcCpYZjFk8j",
        "outputId": "e53ec6e8-6d0b-4a00-967f-217a5a4f40bc"
      },
      "execution_count": 80,
      "outputs": [
        {
          "output_type": "stream",
          "name": "stdout",
          "text": [
            "my name is a  shreeshail\n"
          ]
        }
      ]
    },
    {
      "cell_type": "code",
      "source": [
        "class Bank :\n",
        "    def __init__(self,balance):\n",
        "      self.balance = balance\n",
        "\n",
        "    def Deposit(self, amount):\n",
        "      self.balance += amount\n",
        "\n",
        "    def Withdraw(self,amount):\n",
        "        if amount <= self.balance:\n",
        "           self.balance -= amount\n",
        "           print(\"Transaction successfully\",amount)\n",
        "        else:\n",
        "           print(\"Insufficient balance\")\n",
        "    def re_balance(self):\n",
        "        return self.balance\n",
        "\n",
        "Obj = Bank(1000)\n",
        "print(Obj.balance)\n",
        "Obj.Deposit(500)\n",
        "print(Obj.balance)\n",
        "Obj.Withdraw(700)\n",
        "print(Obj.re_balance())\n",
        "Obj.Deposit(1000)\n",
        "print(\"Current total balance is\",Obj.balance)\n",
        "Obj.Withdraw(2000)\n",
        "print(\"Current total balance is\",Obj.balance)\n",
        "Obj.Withdraw(1500)\n",
        "print(\"current total balance is\",Obj.balance)\n",
        "\n"
      ],
      "metadata": {
        "colab": {
          "base_uri": "https://localhost:8080/"
        },
        "id": "A-2dUUSETAqm",
        "outputId": "ee7240bf-1578-42af-ecdc-047d8c0123b0"
      },
      "execution_count": 91,
      "outputs": [
        {
          "output_type": "stream",
          "name": "stdout",
          "text": [
            "1000\n",
            "1500\n",
            "Transaction successfully 700\n",
            "800\n",
            "Current total balance is 1800\n",
            "Insufficient balance\n",
            "Current total balance is 1800\n",
            "Transaction successfully 1500\n",
            "current total balance is 300\n"
          ]
        }
      ]
    },
    {
      "cell_type": "code",
      "source": [
        "# Encapsulation Example\n",
        "class student :\n",
        "  def __init__(self,name,marks,place):\n",
        "    self._name = name\n",
        "    self._marks = marks\n",
        "    self.place = place\n",
        "  def set_method(self,name,marks):\n",
        "    self.name = name       #Pravet variable\n",
        "    self.marks = marks     #public variable\n",
        "\n",
        "  def get_name(self):\n",
        "    return self._name\n",
        "\n",
        "  def get_marks(self):\n",
        "    return self._marks\n",
        "\n",
        "obj = student(\"Shreeshail\",85,\"chikodi\")\n",
        "print(obj.get_name())\n",
        "print(obj.get_marks())\n",
        "print(obj.place)\n"
      ],
      "metadata": {
        "colab": {
          "base_uri": "https://localhost:8080/"
        },
        "id": "bHMUiUYngMtN",
        "outputId": "845b3f42-2e21-49dc-960e-8a7c6c88afe0"
      },
      "execution_count": 103,
      "outputs": [
        {
          "output_type": "stream",
          "name": "stdout",
          "text": [
            "Shreeshail\n",
            "85\n",
            "chikodi\n"
          ]
        }
      ]
    },
    {
      "cell_type": "code",
      "source": [
        "# 1)single inheritance\n",
        "class Parent:\n",
        "  def Work(self):\n",
        "    print(\"my parents are doing forming\")\n",
        "class Children(Parent):\n",
        "  def study(self):\n",
        "   print(\"I'm studing BCA in BK college\")\n",
        "Ch = Children()\n",
        "Ch.Work()\n"
      ],
      "metadata": {
        "colab": {
          "base_uri": "https://localhost:8080/"
        },
        "id": "HQ4qGdp-k1m0",
        "outputId": "0525926b-bc6a-4fe5-d6b9-f163e358d0ce"
      },
      "execution_count": 112,
      "outputs": [
        {
          "output_type": "stream",
          "name": "stdout",
          "text": [
            "my parents are doing forming\n"
          ]
        }
      ]
    },
    {
      "cell_type": "code",
      "source": [
        "#multiple inheritance\n",
        "class Father :\n",
        "  def Hi(self):\n",
        "    print(\"My father is my first hero\")\n",
        "\n",
        "class Mother :\n",
        "  def Hello(self):\n",
        "    print(\"My mother is my house wife\")\n",
        "class child(Father, Mother):\n",
        "  def Bye(self):\n",
        "    print(\"I'm working as a freelancer\")\n",
        "Obj = child()\n",
        "Obj.Hi()\n",
        "Obj.Hello()\n",
        "Obj.Bye()\n"
      ],
      "metadata": {
        "colab": {
          "base_uri": "https://localhost:8080/"
        },
        "id": "bO92ntfAt33d",
        "outputId": "b231fa35-aa5b-4098-b318-b0b616f0a79f"
      },
      "execution_count": 114,
      "outputs": [
        {
          "output_type": "stream",
          "name": "stdout",
          "text": [
            "My father is my first hero\n",
            "My mother is my house wife\n",
            "I'm working as a freelancer\n"
          ]
        }
      ]
    },
    {
      "cell_type": "code",
      "source": [
        "# Multi Level Inheritance\n",
        "class Grand_parents :\n",
        "  def Formar(self):\n",
        "      print(\"✅✅✅✅✅\")\n",
        "\n",
        "class Parents(Grand_parents) :\n",
        "  def House(self):\n",
        "      print(\"😼😼😼😼\")\n",
        "\n",
        "class Child (Parents):\n",
        "  def Jolly(self):\n",
        "      print(\"🌱🌱🌱🌱\")\n",
        "\n",
        "Obj = Child()\n",
        "Obj.House()\n",
        "Obj.Jolly()\n",
        "Obj.Formar()"
      ],
      "metadata": {
        "colab": {
          "base_uri": "https://localhost:8080/"
        },
        "id": "Dv9fq6JOvL3z",
        "outputId": "eb5f6341-ae9c-4d2a-bff8-dfa585823568"
      },
      "execution_count": 120,
      "outputs": [
        {
          "output_type": "stream",
          "name": "stdout",
          "text": [
            "😼😼😼😼\n",
            "🌱🌱🌱🌱\n",
            "✅✅✅✅✅\n"
          ]
        }
      ]
    },
    {
      "cell_type": "code",
      "source": [
        "#Hirarchy Inheritance\n",
        "class Parents :\n",
        "  def Business(self):\n",
        "    print(\"My parents are doing Business\")\n",
        "\n",
        "class Child1(Parents) :\n",
        "  def Study(self):\n",
        "    print(\"I'm studying BCA\")\n",
        "\n",
        "class Child2(Parents) :\n",
        "  def study(self):\n",
        "    print(\"I'm studying PUC\")\n",
        "\n",
        "Ch1 = Child1()\n",
        "Ch1.Business()\n",
        "Ch1.Study()\n",
        "\n",
        "\n",
        "Obj = Child2()\n",
        "Obj.Business()\n",
        "Obj.study()"
      ],
      "metadata": {
        "colab": {
          "base_uri": "https://localhost:8080/"
        },
        "id": "lbROTqMJzIH-",
        "outputId": "7cfe95e8-f157-475c-ea9c-05d34ad73715"
      },
      "execution_count": 137,
      "outputs": [
        {
          "output_type": "stream",
          "name": "stdout",
          "text": [
            "My parents are doing Business\n",
            "I'm studying BCA\n",
            "My parents are doing Business\n",
            "I'm studying PUC\n"
          ]
        }
      ]
    },
    {
      "cell_type": "code",
      "source": [
        "# Hybrid Inheritance\n",
        "\n",
        "class Grandfather:\n",
        "    def skill(self):\n",
        "        print(\"Grandfather has farming skills\")\n",
        "\n",
        "class Father(Grandfather):\n",
        "    def business(self):\n",
        "        print(\"Father has a business\")\n",
        "\n",
        "class Mother:\n",
        "    def cooking(self):\n",
        "        print(\"Mother is a great cook\")\n",
        "\n",
        "class Son(Father, Mother):\n",
        "    def study(self):\n",
        "        print(\"Son is studying\")\n",
        "\n",
        "class Daughter(Father):\n",
        "    def art(self):\n",
        "        print(\"Daughter is good at art\")\n",
        "\n",
        "# Example usage\n",
        "print(\"Son's traits:\")\n",
        "son = Son()\n",
        "son.skill()\n",
        "son.business()\n",
        "son.cooking()\n",
        "son.study()\n",
        "print(\"\\nDaughter's traits:\")\n",
        "daughter = Daughter()\n",
        "daughter.skill()\n",
        "daughter.business()\n",
        "daughter.art()\n",
        "\n"
      ],
      "metadata": {
        "colab": {
          "base_uri": "https://localhost:8080/"
        },
        "id": "Q_Mucs-x3O04",
        "outputId": "297c28e3-d141-4acd-bc81-81cfce4b9d49"
      },
      "execution_count": 138,
      "outputs": [
        {
          "output_type": "stream",
          "name": "stdout",
          "text": [
            "Son's traits:\n",
            "Grandfather has farming skills\n",
            "Father has a business\n",
            "Mother is a great cook\n",
            "Son is studying\n",
            "\n",
            "Daughter's traits:\n",
            "Grandfather has farming skills\n",
            "Father has a business\n",
            "Daughter is good at art\n"
          ]
        }
      ]
    }
  ]
}